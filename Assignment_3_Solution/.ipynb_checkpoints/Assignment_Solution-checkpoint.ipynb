{
 "cells": [
  {
   "cell_type": "markdown",
   "metadata": {},
   "source": [
    "### Import relevant packages"
   ]
  },
  {
   "cell_type": "code",
   "execution_count": 776,
   "metadata": {},
   "outputs": [],
   "source": [
    "import numpy as np\n",
    "import cv2\n",
    "#from utilities import *\n",
    "import torchfile as tr\n",
    "import matplotlib.pyplot as plt\n",
    "from sklearn import preprocessing\n",
    "import pickle\n",
    "%matplotlib inline"
   ]
  },
  {
   "cell_type": "markdown",
   "metadata": {},
   "source": [
    "### Load training and test data"
   ]
  },
  {
   "cell_type": "code",
   "execution_count": 777,
   "metadata": {},
   "outputs": [],
   "source": [
    "train_data = tr.load('../data.bin')\n",
    "test_data = tr.load('../test.bin')\n",
    "train_labels=tr.load('../labels.bin')"
   ]
  },
  {
   "cell_type": "code",
   "execution_count": 778,
   "metadata": {},
   "outputs": [
    {
     "name": "stdout",
     "output_type": "stream",
     "text": [
      "Training data shape :(29160, 108, 108)\n",
      "Testing data shape :(29160, 108, 108)\n",
      "Training label data shape :(29160,)\n"
     ]
    }
   ],
   "source": [
    "print(\"Training data shape :{}\".format(train_data.shape))\n",
    "print(\"Testing data shape :{}\".format(test_data.shape))\n",
    "print(\"Training label data shape :{}\".format(train_labels.shape))"
   ]
  },
  {
   "cell_type": "markdown",
   "metadata": {},
   "source": [
    "### Split train data to train and val data"
   ]
  },
  {
   "cell_type": "code",
   "execution_count": 779,
   "metadata": {},
   "outputs": [],
   "source": [
    "from sklearn.model_selection import train_test_split\n",
    "test_x,valid_x,test_y,valid_y=train_test_split(train_data,train_labels,test_size=0.2,random_state=0)"
   ]
  },
  {
   "cell_type": "markdown",
   "metadata": {},
   "source": [
    "### Image plot for data Visualization"
   ]
  },
  {
   "cell_type": "code",
   "execution_count": 780,
   "metadata": {},
   "outputs": [],
   "source": [
    "index=14\n",
    "img=train_data[index]"
   ]
  },
  {
   "cell_type": "code",
   "execution_count": 781,
   "metadata": {},
   "outputs": [
    {
     "data": {
      "text/plain": [
       "<matplotlib.image.AxesImage at 0x7f7b4fd44d68>"
      ]
     },
     "execution_count": 781,
     "metadata": {},
     "output_type": "execute_result"
    },
    {
     "data": {
      "image/png": "[encoded data removed]",
      "text/plain": [
       "<Figure size 432x288 with 1 Axes>"
      ]
     },
     "metadata": {
      "needs_background": "light"
     },
     "output_type": "display_data"
    }
   ],
   "source": [
    "plt.imshow(img,cmap='gray')"
   ]
  },
  {
   "cell_type": "markdown",
   "metadata": {},
   "source": [
    "### Reshaping training and test data"
   ]
  },
  {
   "cell_type": "code",
   "execution_count": 782,
   "metadata": {},
   "outputs": [],
   "source": [
    "#Reshaping training data to (108*108,29160)\n",
    "train_data=test_x.reshape(test_x.shape[0],-1).T\n",
    "validation_data=valid_x.reshape(valid_x.shape[0],-1).T"
   ]
  },
  {
   "cell_type": "code",
   "execution_count": 783,
   "metadata": {},
   "outputs": [],
   "source": [
    "#Reshaping test data to shape (108*108,29160)\n",
    "test_data=test_data.reshape(test_data.shape[0],-1).T"
   ]
  },
  {
   "cell_type": "code",
   "execution_count": 784,
   "metadata": {},
   "outputs": [],
   "source": [
    "#Reshaping train labels to (29160,1)\n",
    "train_labels=test_y.reshape(test_y.shape[0],-1).T\n",
    "validation_labels=valid_y.reshape(valid_y.shape[0],-1).T"
   ]
  },
  {
   "cell_type": "code",
   "execution_count": 785,
   "metadata": {},
   "outputs": [],
   "source": [
    "train_labels_acc=np.copy(train_labels)"
   ]
  },
  {
   "cell_type": "markdown",
   "metadata": {},
   "source": [
    "### Convert Lables to one hot vectors"
   ]
  },
  {
   "cell_type": "code",
   "execution_count": 786,
   "metadata": {},
   "outputs": [],
   "source": [
    "train_labels=np.squeeze(np.eye(6)[train_labels]).T\n",
    "#validation_labels=np.squeeze(np.eye(6)[validation_labels]).T"
   ]
  },
  {
   "cell_type": "code",
   "execution_count": 787,
   "metadata": {},
   "outputs": [
    {
     "name": "stdout",
     "output_type": "stream",
     "text": [
      "Training data shape after Reshape:(11664, 23328)\n",
      "Training label data shape after Reshape:(6, 23328)\n",
      "Testing data shape after Reshape:(11664, 29160)\n"
     ]
    }
   ],
   "source": [
    "print(\"Training data shape after Reshape:{}\".format(train_data.shape))\n",
    "print(\"Training label data shape after Reshape:{}\".format(train_labels.shape))\n",
    "print(\"Testing data shape after Reshape:{}\".format(test_data.shape))"
   ]
  },
  {
   "cell_type": "markdown",
   "metadata": {},
   "source": [
    "## Defining Network Architecture"
   ]
  },
  {
   "cell_type": "markdown",
   "metadata": {},
   "source": [
    "### Weight Initialization"
   ]
  },
  {
   "cell_type": "code",
   "execution_count": 810,
   "metadata": {},
   "outputs": [],
   "source": [
    "def initialization(layer_dims):\n",
    "    #np.random.seed(3)\n",
    "    #no_of_layers = len(layer_dims)-1\n",
    "    #parameters ={}\n",
    "    #for l in range(1, no_of_layers + 1):\n",
    "    #    parameters[\"W\"+str(l)]=np.random.randn(layer_dims[l],layer_dims[l-1])*0.01\n",
    "    #    parameters[\"b\"+str(l)]=np.zeros(shape=(layer_dims[l],1))\n",
    "    #parameters=np.load('parameters.npy',allow_pickle=True)\n",
    "    #print('parameters==',len(parameters))\n",
    "    # Load data (deserialize)\n",
    "    with open('parameters.pickle', 'rb') as handle:\n",
    "        paramerters = pickle.load(handle)\n",
    "    print('parameters==',len(parameters))\n",
    "    return parameters"
   ]
  },
  {
   "cell_type": "markdown",
   "metadata": {},
   "source": [
    "### Utility Functions"
   ]
  },
  {
   "cell_type": "code",
   "execution_count": 789,
   "metadata": {},
   "outputs": [],
   "source": [
    "def relu_forward(Z):\n",
    "    A=np.maximum(0,Z)\n",
    "    return A,Z"
   ]
  },
  {
   "cell_type": "code",
   "execution_count": 790,
   "metadata": {},
   "outputs": [],
   "source": [
    "def relu_backward(prev_der,saved_data):\n",
    "    this_layer_activation=saved_data  #saved_data=Z of this layer\n",
    "    d_this_layer=np.array(prev_der, copy=True)\n",
    "    #print(\"d of thsi layer===\",d_this_layer)\n",
    "    d_this_layer[this_layer_activation <=0 ]=0\n",
    "    #print(\"d of thsi layer===\",d_this_layer)\n",
    "    return d_this_layer"
   ]
  },
  {
   "cell_type": "code",
   "execution_count": 791,
   "metadata": {},
   "outputs": [],
   "source": [
    "def softmax_forward(Z):\n",
    "    exp=np.exp(Z)\n",
    "    sum_exp=np.sum(exp,axis=0,keepdims=True)\n",
    "    softmax=exp/sum_exp\n",
    "    #Z -= np.max(Z)\n",
    "    #softmax = (np.exp(Z).T / np.sum(np.exp(Z),axis=1)).T\n",
    "    return softmax,Z"
   ]
  },
  {
   "cell_type": "markdown",
   "metadata": {},
   "source": [
    "### Forward Propogation"
   ]
  },
  {
   "cell_type": "code",
   "execution_count": 792,
   "metadata": {},
   "outputs": [],
   "source": [
    "def linear_plus_activation(X,W,b,activation):\n",
    "    Z = np.dot(W,X)+b\n",
    "    \n",
    "    if activation==\"relu\":\n",
    "        A,activation_save_data=relu_forward(Z)\n",
    "    else:\n",
    "        A,activation_save_data=softmax_forward(Z)\n",
    "    linear_save_data=(X,W,b)\n",
    "    save_data=(linear_save_data,activation_save_data)\n",
    "    return A,save_data"
   ]
  },
  {
   "cell_type": "code",
   "execution_count": 793,
   "metadata": {},
   "outputs": [],
   "source": [
    "def forward_prop(X,parameters):    \n",
    "    A=X\n",
    "    cache_data=[]\n",
    "    #no of layers\n",
    "    L=len(parameters)//2  #W and b so //2\n",
    "    for l in range(1,L):\n",
    "        A_prev=A\n",
    "        A ,relu_save_data= linear_plus_activation(A_prev,parameters[\"W\"+str(l)],parameters[\"b\"+str(l)],\"relu\")\n",
    "        cache_data.append(relu_save_data)\n",
    "    A_final ,softmax_save_data= linear_plus_activation(A,parameters[\"W\"+str(L)],parameters[\"b\"+str(L)],\"softmax\")\n",
    "    cache_data.append(softmax_save_data)\n",
    "    return A_final,cache_data\n",
    "        "
   ]
  },
  {
   "cell_type": "markdown",
   "metadata": {},
   "source": [
    "### Backward propogation"
   ]
  },
  {
   "cell_type": "code",
   "execution_count": 794,
   "metadata": {},
   "outputs": [],
   "source": [
    "def backward_gradient_compute_linear(grad_from_top_layer,save_data,activation):\n",
    "    linear_saved_data,activation_saved_data=save_data\n",
    "    total_images=grad_from_top_layer.shape[1]\n",
    "    if activation==\"relu\":\n",
    "        grad_from_top=relu_backward(grad_from_top_layer,activation_saved_data)\n",
    "    prev_activation,W,b=linear_saved_data\n",
    "    #print(\"top grad==\",grad_from_top)\n",
    "    dW=np.dot(grad_from_top,prev_activation.T)/total_images\n",
    "    db=np.sum(grad_from_top,axis=1,keepdims=True)/total_images\n",
    "    d_pass_to_prev_layer=np.dot(W.T,grad_from_top)\n",
    "    #print(\"dw==\",dW)\n",
    "    return d_pass_to_prev_layer,dW,db\n",
    "    \n",
    "    "
   ]
  },
  {
   "cell_type": "code",
   "execution_count": 795,
   "metadata": {},
   "outputs": [],
   "source": [
    "def backward_gradient_compute_linear_with_regularization(grad_from_top_layer,save_data,activation,lambd):\n",
    "    linear_saved_data,activation_saved_data=save_data\n",
    "    total_images=grad_from_top_layer.shape[1]\n",
    "    if activation==\"relu\":\n",
    "        grad_from_top=relu_backward(grad_from_top_layer,activation_saved_data)\n",
    "    prev_activation,W,b=linear_saved_data\n",
    "    #print(\"top grad==\",grad_from_top)\n",
    "    dW=np.dot(grad_from_top,prev_activation.T)/total_images+lambd*W/total_images\n",
    "    db=np.sum(grad_from_top,axis=1,keepdims=True)/total_images\n",
    "    d_pass_to_prev_layer=np.dot(W.T,grad_from_top)\n",
    "    #print(\"dw==\",dW)\n",
    "    return d_pass_to_prev_layer,dW,db"
   ]
  },
  {
   "cell_type": "code",
   "execution_count": 796,
   "metadata": {},
   "outputs": [],
   "source": [
    "def backward_prop(output_from_softmax,Y,saved_data):\n",
    "    gradients={}\n",
    "    prev_derivate=output_from_softmax-Y\n",
    "    \n",
    "    number_of_layers=len(saved_data)\n",
    "    total_images=Y.shape[1]\n",
    "    final_layer_saved=saved_data[number_of_layers-1]\n",
    "    linear,activation=final_layer_saved\n",
    "    gradients['dW'+str(number_of_layers)]=np.dot(prev_derivate,linear[0].T)/total_images\n",
    "    gradients['db'+str(number_of_layers)]=np.sum(prev_derivate,axis=1,keepdims=True)/total_images\n",
    "    prev_derivate=np.dot(linear[1].T,prev_derivate)\n",
    "    for l in reversed(range(number_of_layers-1)):\n",
    "        current_layer_save_data=saved_data[l]\n",
    "        prev_derivate,dW,db=backward_gradient_compute_linear(prev_derivate,current_layer_save_data,\"relu\")\n",
    "        gradients['dW'+str(l+1)]=dW\n",
    "        gradients['db'+str(l+1)]=db\n",
    "        #print(\"gradient shapes of W{0}:{1} and b{2}:{3}\".format(l,dW.shape,l,db.shape))\n",
    "    #print(\"dW1===\",gradients[\"dW1\"])\n",
    "    return gradients\n",
    "        \n",
    "        \n",
    "    "
   ]
  },
  {
   "cell_type": "code",
   "execution_count": 797,
   "metadata": {},
   "outputs": [],
   "source": [
    "def backward_prop_with_regularization(output_from_softmax,Y,saved_data,lambd):\n",
    "    gradients={}\n",
    "    prev_derivate=output_from_softmax-Y\n",
    "    \n",
    "    number_of_layers=len(saved_data)\n",
    "    total_images=Y.shape[1]\n",
    "    final_layer_saved=saved_data[number_of_layers-1]\n",
    "    linear,activation=final_layer_saved\n",
    "    gradients['dW'+str(number_of_layers)]=np.dot(prev_derivate,linear[0].T)/total_images+lambd*linear[1]/total_images\n",
    "    gradients['db'+str(number_of_layers)]=np.sum(prev_derivate,axis=1,keepdims=True)/total_images\n",
    "    prev_derivate=np.dot(linear[1].T,prev_derivate)\n",
    "    for l in reversed(range(number_of_layers-1)):\n",
    "        current_layer_save_data=saved_data[l]\n",
    "        prev_derivate,dW,db=backward_gradient_compute_linear_with_regularization(prev_derivate,current_layer_save_data,\"relu\",lambd)\n",
    "        gradients['dW'+str(l+1)]=dW\n",
    "        gradients['db'+str(l+1)]=db\n",
    "        #print(\"gradient shapes of W{0}:{1} and b{2}:{3}\".format(l,dW.shape,l,db.shape))\n",
    "    #print(\"dW1===\",gradients[\"dW1\"])\n",
    "    return gradients"
   ]
  },
  {
   "cell_type": "markdown",
   "metadata": {},
   "source": [
    "### Compute Loss"
   ]
  },
  {
   "cell_type": "code",
   "execution_count": 798,
   "metadata": {},
   "outputs": [],
   "source": [
    "def cost(y_hat,y):\n",
    "    #print(\"shape of y_hat {} and y {}\".format(y_hat.shape,y.shape))\n",
    "    total_images=y.shape[1]\n",
    "    #cost=-np.sum(y*np.log(y_hat)+(1-y)*np.log(1-y_hat))/total_images\n",
    "    L_sum = np.sum(np.multiply(y, np.log(y_hat)))\n",
    "    L = -(1./total_images) * L_sum\n",
    "\n",
    "    L = np.squeeze(L) \n",
    "    return L"
   ]
  },
  {
   "cell_type": "code",
   "execution_count": 799,
   "metadata": {},
   "outputs": [],
   "source": [
    "# GRADED FUNCTION: compute_cost_with_regularization\n",
    "\n",
    "def compute_cost_with_regularization(y_hat, y, parameters, lambd):\n",
    "    total_images = y.shape[1]\n",
    "    number_of_layers = len(parameters)//2\n",
    "        \n",
    "    W1 = parameters[\"W1\"]\n",
    "    W2 = parameters[\"W2\"]\n",
    "    W3 = parameters[\"W3\"]\n",
    "    \n",
    "    cross_entropy_cost = cost(y_hat, y) # This gives you the cross-entropy part of the cost\n",
    "    \n",
    "    ### START CODE HERE ### (approx. 1 line)\n",
    "    L2_regularization_cost = lambd * (np.sum(np.square(W1))+np.sum(np.square(W2))+np.sum(np.square(W3)))/(2*total_images)\n",
    "    ### END CODER HERE ###\n",
    "    \n",
    "    total_cost = cross_entropy_cost + L2_regularization_cost\n",
    "    \n",
    "    return total_cost"
   ]
  },
  {
   "cell_type": "markdown",
   "metadata": {},
   "source": [
    "### Update parameters with gradient descent"
   ]
  },
  {
   "cell_type": "code",
   "execution_count": 800,
   "metadata": {},
   "outputs": [],
   "source": [
    "def update(parameters,gradients,learning_rate):\n",
    "    number_of_layers=len(parameters)//2  # sice W and B in 1 params so /2\n",
    "    #print(\"prev weight \",parameters[\"W1\"])\n",
    "    #print(\"prev grad \",gradients[\"dW1\"])\n",
    "    for l in range(number_of_layers):\n",
    "        parameters[\"W\"+str(l+1)]-=learning_rate*gradients[\"dW\"+str(l+1)]\n",
    "        parameters[\"b\"+str(l+1)]-=learning_rate*gradients[\"db\"+str(l+1)]\n",
    "    #print(\"new weight \",parameters[\"W1\"])\n",
    "    return parameters"
   ]
  },
  {
   "cell_type": "markdown",
   "metadata": {},
   "source": [
    "### Update parameters with gradient descent with momentum"
   ]
  },
  {
   "cell_type": "code",
   "execution_count": 801,
   "metadata": {},
   "outputs": [],
   "source": [
    "def update_with_momentum(parameters,gradients,learning_rate,beta,beta2):\n",
    "    number_of_layers=len(parameters)//2  # sice W and B in 1 params so /2\n",
    "    #print(\"prev weight \",parameters[\"W1\"])\n",
    "    #print(\"prev grad \",gradients[\"dW1\"])\n",
    "    # Initialize velocity\n",
    "    v={}\n",
    "    s={}\n",
    "    epsilon=1e-8\n",
    "    for l in range(number_of_layers):\n",
    "        ### START CODE HERE ### (approx. 2 lines)\n",
    "        v[\"dW\" + str(l+1)] = np.zeros(parameters['W' + str(l+1)].shape)\n",
    "        v[\"db\" + str(l+1)] = np.zeros(parameters['b' + str(l+1)].shape)\n",
    "        s[\"dW\" + str(l+1)] = np.zeros(parameters['W' + str(l+1)].shape)\n",
    "        s[\"db\" + str(l+1)] = np.zeros(parameters['b' + str(l+1)].shape)\n",
    "\n",
    "    for l in range(number_of_layers):\n",
    "        # compute velocities\n",
    "        v[\"dW\" + str(l+1)] = beta*v[\"dW\" + str(l+1)] + (1-beta)*gradients['dW' + str(l+1)]\n",
    "        v[\"db\" + str(l+1)] = beta*v[\"db\" + str(l+1)] + (1-beta)*gradients['db' + str(l+1)]\n",
    "        \n",
    "        # Moving average of the squared gradients. \n",
    "        \n",
    "        s[\"dW\" + str(l+1)] = beta2*s[\"dW\" + str(l+1)] + (1-beta2)*(gradients[\"dW\" + str(l+1)]**2)\n",
    "        s[\"db\" + str(l+1)] = beta2*s[\"db\" + str(l+1)] + (1-beta2)*(gradients[\"db\" + str(l+1)]**2)\n",
    "        \n",
    "        # update parameters\n",
    "        parameters[\"W\" + str(l+1)] = parameters[\"W\" + str(l+1)] - learning_rate*v[\"dW\" + str(l+1)]\\\n",
    "                                                                    /(s[\"dW\" + str(l+1)]**0.5+epsilon)\n",
    "        parameters[\"b\" + str(l+1)] = parameters[\"b\" + str(l+1)] - learning_rate*v[\"db\" + str(l+1)]\\\n",
    "                                                                    /(s[\"db\" + str(l+1)]**0.5+epsilon)\n",
    "    #print(\"new weight \",parameters[\"W1\"])\n",
    "    return parameters"
   ]
  },
  {
   "cell_type": "markdown",
   "metadata": {},
   "source": [
    "### Define complete Pipeline"
   ]
  },
  {
   "cell_type": "code",
   "execution_count": 802,
   "metadata": {},
   "outputs": [],
   "source": [
    "### CONSTANTS ###\n",
    "layers_dims = [11664,32, 10, 6] #  3-layer model\n",
    "#layers_dims = [11664,10,6]\n",
    "learning_rate = 1e-3\n",
    "num_iterations = 2\n",
    "L2_regularizer_lambd=0.1\n",
    "momentum_beta=0.999\n",
    "momentum_beta2=0.9"
   ]
  },
  {
   "cell_type": "code",
   "execution_count": 803,
   "metadata": {},
   "outputs": [],
   "source": [
    "costs = []  \n",
    "def model(X,Y,layer_dims,learning_rate , num_iterations):\n",
    "    \n",
    "    parameters=initialization(layer_dims)\n",
    "    #print(\"para   \",parameters)\n",
    "    for i in range(0,num_iterations):\n",
    "        #forward propogation\n",
    "        y_hat,cache_data = forward_prop(X,parameters)\n",
    "        #print(\"output===\",y_hat)\n",
    "        iter_cost=cost(y_hat,Y) #non-regularized cost\n",
    "        #iter_cost = compute_cost_with_regularization(y_hat,Y,paramerters,L2_regularizer_lambd)\n",
    "        # Print the cost every 100 training example\n",
    "        if i % 1 == 0:\n",
    "            print(\"Cost after iteration {}: {}\".format(i+1, np.squeeze(iter_cost)))\n",
    "            costs.append(iter_cost)\n",
    "        gradients=backward_prop_with_regularization(y_hat,Y,cache_data,L2_regularizer_lambd)\n",
    "        #print(\"total grads  \",len(gradients))\n",
    "        parameters=update_with_momentum(parameters,gradients,learning_rate,momentum_beta,momentum_beta2)\n",
    "    return parameters,costs"
   ]
  },
  {
   "cell_type": "markdown",
   "metadata": {},
   "source": [
    "### Plot cost for Visualization"
   ]
  },
  {
   "cell_type": "code",
   "execution_count": 804,
   "metadata": {},
   "outputs": [],
   "source": [
    "def plot_cost(costs):\n",
    "    # plot the cost\n",
    "    fig = plt.figure()\n",
    "    plt.plot(np.squeeze(costs))\n",
    "    plt.ylabel('cost')\n",
    "    plt.xlabel('iterations (per hundred)')\n",
    "    plt.title(\"Learning rate =\" + str(learning_rate))\n",
    "    #plt.show()\n",
    "    plt.savefig('cost.png')"
   ]
  },
  {
   "cell_type": "markdown",
   "metadata": {},
   "source": [
    "### Model Prediction"
   ]
  },
  {
   "cell_type": "code",
   "execution_count": 805,
   "metadata": {},
   "outputs": [],
   "source": [
    "def predict(X, y, parameters,acc_type):\n",
    "    \n",
    "    total_images = y.shape[1]\n",
    "    p = np.zeros((1,total_images), dtype = np.int)\n",
    "    \n",
    "    # Forward propagation\n",
    "    y_hat,cache_data = forward_prop(X,parameters)\n",
    "    \n",
    "    prediction=np.argmax(y_hat,axis=0)\n",
    "    prediction=np.squeeze(prediction.reshape(y_hat.shape[1],1))\n",
    "    actual_label=np.squeeze(y)\n",
    "    accuracy = sum(prediction == actual_label)/(float(len(actual_label)))\n",
    "    \n",
    "    print(\" {} Accuracy: {}\".format(acc_type,accuracy))"
   ]
  },
  {
   "cell_type": "markdown",
   "metadata": {},
   "source": [
    "### Train Model"
   ]
  },
  {
   "cell_type": "code",
   "execution_count": 806,
   "metadata": {},
   "outputs": [
    {
     "name": "stdout",
     "output_type": "stream",
     "text": [
      "Cost after iteration 1: 1.7996751546304681\n",
      "Cost after iteration 2: 1.7989352633151607\n"
     ]
    },
    {
     "data": {
      "image/png": "[encoded data removed]",
      "text/plain": [
       "<Figure size 432x288 with 1 Axes>"
      ]
     },
     "metadata": {
      "needs_background": "light"
     },
     "output_type": "display_data"
    }
   ],
   "source": [
    "paramerters,costs = model(train_data,train_labels,layers_dims,learning_rate,num_iterations)\n",
    "#plot cost\n",
    "plot_cost(costs)"
   ]
  },
  {
   "cell_type": "markdown",
   "metadata": {},
   "source": [
    "### Model Accuracy"
   ]
  },
  {
   "cell_type": "code",
   "execution_count": 807,
   "metadata": {},
   "outputs": [
    {
     "name": "stdout",
     "output_type": "stream",
     "text": [
      " Training Accuracy: 0.16670953360768176\n"
     ]
    }
   ],
   "source": [
    "# Train accuracy\n",
    "predict(train_data,train_labels_acc,paramerters,\"Training\")"
   ]
  },
  {
   "cell_type": "code",
   "execution_count": 808,
   "metadata": {},
   "outputs": [
    {
     "name": "stdout",
     "output_type": "stream",
     "text": [
      " Validation Accuracy: 0.17181069958847736\n"
     ]
    }
   ],
   "source": [
    "# Validation accuracy\n",
    "predict(validation_data,validation_labels,paramerters,\"Validation\")"
   ]
  },
  {
   "cell_type": "code",
   "execution_count": 809,
   "metadata": {},
   "outputs": [],
   "source": [
    "with open('parameters.pickle', 'wb') as handle:\n",
    "    pickle.dump(paramerters, handle, protocol=pickle.HIGHEST_PROTOCOL)"
   ]
  },
  {
   "cell_type": "code",
   "execution_count": null,
   "metadata": {},
   "outputs": [],
   "source": []
  },
  {
   "cell_type": "code",
   "execution_count": null,
   "metadata": {},
   "outputs": [],
   "source": []
  },
  {
   "cell_type": "code",
   "execution_count": null,
   "metadata": {},
   "outputs": [],
   "source": []
  }
 ],
 "metadata": {
  "kernelspec": {
   "display_name": "Python 3",
   "language": "python",
   "name": "python3"
  },
  "language_info": {
   "codemirror_mode": {
    "name": "ipython",
    "version": 3
   },
   "file_extension": ".py",
   "mimetype": "text/x-python",
   "name": "python",
   "nbconvert_exporter": "python",
   "pygments_lexer": "ipython3",
   "version": "3.6.8"
  }
 },
 "nbformat": 4,
 "nbformat_minor": 2
}
