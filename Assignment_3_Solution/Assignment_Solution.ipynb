{
 "cells": [
  {
   "cell_type": "markdown",
   "metadata": {},
   "source": [
    "### Import relevant packages"
   ]
  },
  {
   "cell_type": "code",
   "execution_count": 641,
   "metadata": {},
   "outputs": [],
   "source": [
    "import numpy as np\n",
    "import cv2\n",
    "#from utilities import *\n",
    "import torchfile as tr\n",
    "import matplotlib.pyplot as plt\n",
    "from sklearn import preprocessing\n",
    "import pickle\n",
    "from datetime import datetime\n",
    "%matplotlib inline\n",
    "import math\n",
    "import pandas as pd"
   ]
  },
  {
   "cell_type": "markdown",
   "metadata": {},
   "source": [
    "### Load training and test data"
   ]
  },
  {
   "cell_type": "code",
   "execution_count": 642,
   "metadata": {},
   "outputs": [],
   "source": [
    "train_data = tr.load('../data.bin')\n",
    "test_data = tr.load('../test.bin')\n",
    "train_labels=tr.load('../labels.bin')"
   ]
  },
  {
   "cell_type": "code",
   "execution_count": 643,
   "metadata": {},
   "outputs": [
    {
     "name": "stdout",
     "output_type": "stream",
     "text": [
      "Training data shape :(29160, 108, 108)\n",
      "Testing data shape :(29160, 108, 108)\n",
      "Training label data shape :(29160,)\n"
     ]
    }
   ],
   "source": [
    "print(\"Training data shape :{}\".format(train_data.shape))\n",
    "print(\"Testing data shape :{}\".format(test_data.shape))\n",
    "print(\"Training label data shape :{}\".format(train_labels.shape))"
   ]
  },
  {
   "cell_type": "markdown",
   "metadata": {},
   "source": [
    "### Split train data to train and val data"
   ]
  },
  {
   "cell_type": "code",
   "execution_count": 644,
   "metadata": {},
   "outputs": [],
   "source": [
    "from sklearn.model_selection import train_test_split\n",
    "test_x,valid_x,test_y,valid_y=train_test_split(train_data,train_labels,test_size=0.2,random_state=0)"
   ]
  },
  {
   "cell_type": "markdown",
   "metadata": {},
   "source": [
    "### Image plot for data Visualization"
   ]
  },
  {
   "cell_type": "code",
   "execution_count": 645,
   "metadata": {},
   "outputs": [],
   "source": [
    "index=14\n",
    "img=train_data[index]"
   ]
  },
  {
   "cell_type": "code",
   "execution_count": 646,
   "metadata": {},
   "outputs": [
    {
     "data": {
      "text/plain": [
       "<matplotlib.image.AxesImage at 0x7fa1d0828748>"
      ]
     },
     "execution_count": 646,
     "metadata": {},
     "output_type": "execute_result"
    },
    {
     "data": {
      "image/png": "[encoded data removed]",
      "text/plain": [
       "<Figure size 432x288 with 1 Axes>"
      ]
     },
     "metadata": {
      "needs_background": "light"
     },
     "output_type": "display_data"
    }
   ],
   "source": [
    "plt.imshow(img,cmap='gray')"
   ]
  },
  {
   "cell_type": "markdown",
   "metadata": {},
   "source": [
    "### Reshaping training and test data"
   ]
  },
  {
   "cell_type": "code",
   "execution_count": 647,
   "metadata": {},
   "outputs": [],
   "source": [
    "#Reshaping training data to (108*108,29160)\n",
    "train_data=test_x.reshape(test_x.shape[0],-1).T\n",
    "validation_data=valid_x.reshape(valid_x.shape[0],-1).T"
   ]
  },
  {
   "cell_type": "code",
   "execution_count": 648,
   "metadata": {},
   "outputs": [],
   "source": [
    "#Reshaping test data to shape (108*108,29160)\n",
    "test_data=test_data.reshape(test_data.shape[0],-1).T"
   ]
  },
  {
   "cell_type": "code",
   "execution_count": 649,
   "metadata": {},
   "outputs": [],
   "source": [
    "#Reshaping train labels to (29160,1)\n",
    "train_labels=test_y.reshape(test_y.shape[0],-1).T\n",
    "validation_labels=valid_y.reshape(valid_y.shape[0],-1).T"
   ]
  },
  {
   "cell_type": "code",
   "execution_count": 650,
   "metadata": {},
   "outputs": [],
   "source": [
    "train_labels_acc=np.copy(train_labels)"
   ]
  },
  {
   "cell_type": "markdown",
   "metadata": {},
   "source": [
    "### Convert Lables to one hot vectors"
   ]
  },
  {
   "cell_type": "code",
   "execution_count": 651,
   "metadata": {},
   "outputs": [],
   "source": [
    "train_labels=np.squeeze(np.eye(6)[train_labels]).T\n",
    "#validation_labels=np.squeeze(np.eye(6)[validation_labels]).T"
   ]
  },
  {
   "cell_type": "code",
   "execution_count": 652,
   "metadata": {},
   "outputs": [
    {
     "name": "stdout",
     "output_type": "stream",
     "text": [
      "Training data shape after Reshape:(11664, 23328)\n",
      "Training label data shape after Reshape:(6, 23328)\n",
      "Testing data shape after Reshape:(11664, 29160)\n"
     ]
    }
   ],
   "source": [
    "print(\"Training data shape after Reshape:{}\".format(train_data.shape))\n",
    "print(\"Training label data shape after Reshape:{}\".format(train_labels.shape))\n",
    "print(\"Testing data shape after Reshape:{}\".format(test_data.shape))"
   ]
  },
  {
   "cell_type": "markdown",
   "metadata": {},
   "source": [
    "## Defining Network Architecture"
   ]
  },
  {
   "cell_type": "markdown",
   "metadata": {},
   "source": [
    "### Weight Initialization"
   ]
  },
  {
   "cell_type": "code",
   "execution_count": 687,
   "metadata": {},
   "outputs": [],
   "source": [
    "def initialization(layer_dims):\n",
    "    #np.random.seed(3)\n",
    "    #no_of_layers = len(layer_dims)-1\n",
    "    #parameters ={}\n",
    "    #for l in range(1, no_of_layers + 1):\n",
    "    #    parameters[\"W\"+str(l)]=np.random.randn(layer_dims[l],layer_dims[l-1]) * 0.01 #*np.sqrt(2./layer_dims[l-1])\n",
    "    #    parameters[\"b\"+str(l)]=np.zeros(shape=(layer_dims[l],1))\n",
    "    #parameters=np.load('parameters.npy',allow_pickle=True)\n",
    "    #print('parameters==',len(parameters))\n",
    "    # Load data (deserialize)\n",
    "    with open('parameters_15-11-2019_09-38-04_AM.pickle', 'rb') as handle:\n",
    "        parameters = pickle.load(handle)\n",
    "    #print('parameters==',len(parameters))\n",
    "    return parameters"
   ]
  },
  {
   "cell_type": "markdown",
   "metadata": {},
   "source": [
    "### Define Mini Batches"
   ]
  },
  {
   "cell_type": "code",
   "execution_count": 654,
   "metadata": {},
   "outputs": [],
   "source": [
    "def random_mini_batches(X, Y, mini_batch_size = 64, seed = 0):\n",
    "    \"\"\"\n",
    "    Creates a list of random minibatches from (X, Y)\n",
    "    \n",
    "    Arguments:\n",
    "    X -- input data, of shape (input size, number of examples)\n",
    "    Y -- true \"label\" vector (1 for blue dot / 0 for red dot), of shape (1, number of examples)\n",
    "    mini_batch_size -- size of the mini-batches, integer\n",
    "    \n",
    "    Returns:\n",
    "    mini_batches -- list of synchronous (mini_batch_X, mini_batch_Y)\n",
    "    \"\"\"\n",
    "    \n",
    "    np.random.seed(seed)            # To make your \"random\" minibatches the same as ours\n",
    "    m = X.shape[1]                  # number of training examples\n",
    "    mini_batches = []\n",
    "        \n",
    "    # Step 1: Shuffle (X, Y)\n",
    "    permutation = list(np.random.permutation(m))\n",
    "    shuffled_X = X[:, permutation]\n",
    "    shuffled_Y = Y[:, permutation]\n",
    "\n",
    "    # Step 2: Partition (shuffled_X, shuffled_Y). Minus the end case.\n",
    "    num_complete_minibatches = math.floor(m/mini_batch_size) # number of mini batches of size mini_batch_size in your partitionning\n",
    "    for k in range(0, num_complete_minibatches):\n",
    "        ### START CODE HERE ### (approx. 2 lines)\n",
    "        mini_batch_X = shuffled_X[:, k*mini_batch_size:(k+1)*mini_batch_size]\n",
    "        mini_batch_Y = shuffled_Y[:, k*mini_batch_size:(k+1)*mini_batch_size]\n",
    "        ### END CODE HERE ###\n",
    "        mini_batch = (mini_batch_X, mini_batch_Y)\n",
    "        mini_batches.append(mini_batch)\n",
    "    \n",
    "    # Handling the end case (last mini-batch < mini_batch_size)\n",
    "    if m % mini_batch_size != 0:\n",
    "        ### START CODE HERE ### (approx. 2 lines)\n",
    "        mini_batch_X = shuffled_X[:, (k+1)*mini_batch_size:]\n",
    "        mini_batch_Y = shuffled_Y[:, (k+1)*mini_batch_size:]\n",
    "        ### END CODE HERE ###\n",
    "        mini_batch = (mini_batch_X, mini_batch_Y)\n",
    "        mini_batches.append(mini_batch)\n",
    "    \n",
    "    return mini_batches"
   ]
  },
  {
   "cell_type": "markdown",
   "metadata": {},
   "source": [
    "### Utility Functions"
   ]
  },
  {
   "cell_type": "code",
   "execution_count": 655,
   "metadata": {},
   "outputs": [],
   "source": [
    "def relu_forward(Z):\n",
    "    A=np.maximum(0,Z)\n",
    "    return A,Z"
   ]
  },
  {
   "cell_type": "code",
   "execution_count": 656,
   "metadata": {},
   "outputs": [],
   "source": [
    "def relu_backward(prev_der,saved_data):\n",
    "    this_layer_activation=saved_data  #saved_data=Z of this layer\n",
    "    d_this_layer=np.array(prev_der, copy=True)\n",
    "    #print(\"d of thsi layer===\",d_this_layer)\n",
    "    d_this_layer[this_layer_activation <=0 ]=0\n",
    "    #print(\"d of thsi layer===\",d_this_layer)\n",
    "    return d_this_layer"
   ]
  },
  {
   "cell_type": "code",
   "execution_count": 657,
   "metadata": {},
   "outputs": [],
   "source": [
    "def softmax_forward(Z):\n",
    "    exp=np.exp(Z)\n",
    "    sum_exp=np.sum(exp,axis=0,keepdims=True)\n",
    "    softmax=exp/sum_exp\n",
    "    #Z -= np.max(Z)\n",
    "    #softmax = (np.exp(Z).T / np.sum(np.exp(Z),axis=1)).T\n",
    "    return softmax,Z"
   ]
  },
  {
   "cell_type": "markdown",
   "metadata": {},
   "source": [
    "### Forward Propogation"
   ]
  },
  {
   "cell_type": "code",
   "execution_count": 658,
   "metadata": {},
   "outputs": [],
   "source": [
    "def linear_plus_activation(X,W,b,activation):\n",
    "    Z = np.dot(W,X)+b\n",
    "    \n",
    "    if activation==\"relu\":\n",
    "        A,activation_save_data=relu_forward(Z)\n",
    "    else:\n",
    "        A,activation_save_data=softmax_forward(Z)\n",
    "    linear_save_data=(X,W,b)\n",
    "    save_data=(linear_save_data,activation_save_data)\n",
    "    return A,save_data"
   ]
  },
  {
   "cell_type": "code",
   "execution_count": 659,
   "metadata": {},
   "outputs": [],
   "source": [
    "def forward_prop(X,parameters):    \n",
    "    A=X\n",
    "    cache_data=[]\n",
    "    #no of layers\n",
    "    L=len(parameters)//2  #W and b so //2\n",
    "    for l in range(1,L):\n",
    "        A_prev=A\n",
    "        A ,relu_save_data= linear_plus_activation(A_prev,parameters[\"W\"+str(l)],parameters[\"b\"+str(l)],\"relu\")\n",
    "        cache_data.append(relu_save_data)\n",
    "    A_final ,softmax_save_data= linear_plus_activation(A,parameters[\"W\"+str(L)],parameters[\"b\"+str(L)],\"softmax\")\n",
    "    cache_data.append(softmax_save_data)\n",
    "    return A_final,cache_data\n",
    "        "
   ]
  },
  {
   "cell_type": "markdown",
   "metadata": {},
   "source": [
    "### Backward propogation"
   ]
  },
  {
   "cell_type": "code",
   "execution_count": 660,
   "metadata": {},
   "outputs": [],
   "source": [
    "def backward_gradient_compute_linear(grad_from_top_layer,save_data,activation):\n",
    "    linear_saved_data,activation_saved_data=save_data\n",
    "    total_images=grad_from_top_layer.shape[1]\n",
    "    if activation==\"relu\":\n",
    "        grad_from_top=relu_backward(grad_from_top_layer,activation_saved_data)\n",
    "    prev_activation,W,b=linear_saved_data\n",
    "    #print(\"top grad==\",grad_from_top)\n",
    "    dW=np.dot(grad_from_top,prev_activation.T)/total_images\n",
    "    db=np.sum(grad_from_top,axis=1,keepdims=True)/total_images\n",
    "    d_pass_to_prev_layer=np.dot(W.T,grad_from_top)\n",
    "    #print(\"dw==\",dW)\n",
    "    return d_pass_to_prev_layer,dW,db\n",
    "    \n",
    "    "
   ]
  },
  {
   "cell_type": "code",
   "execution_count": 661,
   "metadata": {},
   "outputs": [],
   "source": [
    "def backward_gradient_compute_linear_with_regularization(grad_from_top_layer,save_data,activation,lambd):\n",
    "    linear_saved_data,activation_saved_data=save_data\n",
    "    total_images=grad_from_top_layer.shape[1]\n",
    "    if activation==\"relu\":\n",
    "        grad_from_top=relu_backward(grad_from_top_layer,activation_saved_data)\n",
    "    prev_activation,W,b=linear_saved_data\n",
    "    #print(\"top grad==\",grad_from_top)\n",
    "    dW=np.dot(grad_from_top,prev_activation.T)/total_images+lambd*W/total_images\n",
    "    db=np.sum(grad_from_top,axis=1,keepdims=True)/total_images\n",
    "    d_pass_to_prev_layer=np.dot(W.T,grad_from_top)\n",
    "    #print(\"dw==\",dW)\n",
    "    return d_pass_to_prev_layer,dW,db"
   ]
  },
  {
   "cell_type": "code",
   "execution_count": 662,
   "metadata": {},
   "outputs": [],
   "source": [
    "def backward_prop(output_from_softmax,Y,saved_data):\n",
    "    gradients={}\n",
    "    prev_derivate=output_from_softmax-Y\n",
    "    \n",
    "    number_of_layers=len(saved_data)\n",
    "    total_images=Y.shape[1]\n",
    "    final_layer_saved=saved_data[number_of_layers-1]\n",
    "    linear,activation=final_layer_saved\n",
    "    gradients['dW'+str(number_of_layers)]=np.dot(prev_derivate,linear[0].T)/total_images\n",
    "    gradients['db'+str(number_of_layers)]=np.sum(prev_derivate,axis=1,keepdims=True)/total_images\n",
    "    prev_derivate=np.dot(linear[1].T,prev_derivate)\n",
    "    for l in reversed(range(number_of_layers-1)):\n",
    "        current_layer_save_data=saved_data[l]\n",
    "        prev_derivate,dW,db=backward_gradient_compute_linear(prev_derivate,current_layer_save_data,\"relu\")\n",
    "        gradients['dW'+str(l+1)]=dW\n",
    "        gradients['db'+str(l+1)]=db\n",
    "        #print(\"gradient shapes of W{0}:{1} and b{2}:{3}\".format(l,dW.shape,l,db.shape))\n",
    "    #print(\"dW1===\",gradients[\"dW1\"])\n",
    "    return gradients\n",
    "        \n",
    "        \n",
    "    "
   ]
  },
  {
   "cell_type": "code",
   "execution_count": 663,
   "metadata": {},
   "outputs": [],
   "source": [
    "def backward_prop_with_regularization(output_from_softmax,Y,saved_data,lambd):\n",
    "    gradients={}\n",
    "    prev_derivate=output_from_softmax-Y\n",
    "    \n",
    "    number_of_layers=len(saved_data)\n",
    "    total_images=Y.shape[1]\n",
    "    final_layer_saved=saved_data[number_of_layers-1]\n",
    "    linear,activation=final_layer_saved\n",
    "    gradients['dW'+str(number_of_layers)]=np.dot(prev_derivate,linear[0].T)/total_images+lambd*linear[1]/total_images\n",
    "    gradients['db'+str(number_of_layers)]=np.sum(prev_derivate,axis=1,keepdims=True)/total_images\n",
    "    prev_derivate=np.dot(linear[1].T,prev_derivate)\n",
    "    for l in reversed(range(number_of_layers-1)):\n",
    "        current_layer_save_data=saved_data[l]\n",
    "        prev_derivate,dW,db=backward_gradient_compute_linear_with_regularization(prev_derivate,current_layer_save_data,\"relu\",lambd)\n",
    "        gradients['dW'+str(l+1)]=dW\n",
    "        gradients['db'+str(l+1)]=db\n",
    "        #print(\"gradient shapes of W{0}:{1} and b{2}:{3}\".format(l,dW.shape,l,db.shape))\n",
    "    #print(\"dW1===\",gradients[\"dW1\"])\n",
    "    return gradients"
   ]
  },
  {
   "cell_type": "markdown",
   "metadata": {},
   "source": [
    "### Compute Loss"
   ]
  },
  {
   "cell_type": "code",
   "execution_count": 664,
   "metadata": {},
   "outputs": [],
   "source": [
    "def cost(y_hat,y):\n",
    "    #print(\"shape of y_hat {} and y {}\".format(y_hat.shape,y.shape))\n",
    "    total_images=y.shape[1]\n",
    "    #cost=-np.sum(y*np.log(y_hat)+(1-y)*np.log(1-y_hat))/total_images\n",
    "    L_sum = np.sum(np.multiply(y, np.log(y_hat)))\n",
    "    L = -(1./total_images) * L_sum\n",
    "\n",
    "    L = np.squeeze(L) \n",
    "    return L"
   ]
  },
  {
   "cell_type": "code",
   "execution_count": 665,
   "metadata": {},
   "outputs": [],
   "source": [
    "# GRADED FUNCTION: compute_cost_with_regularization\n",
    "\n",
    "def compute_cost_with_regularization(y_hat, y, parameters, lambd):\n",
    "    total_images = y.shape[1]\n",
    "    number_of_layers = len(parameters)//2\n",
    "        \n",
    "    W1 = parameters[\"W1\"]\n",
    "    W2 = parameters[\"W2\"]\n",
    "    W3 = parameters[\"W3\"]\n",
    "    \n",
    "    cross_entropy_cost = cost(y_hat, y) # This gives you the cross-entropy part of the cost\n",
    "    \n",
    "    ### START CODE HERE ### (approx. 1 line)\n",
    "    L2_regularization_cost = lambd * (np.sum(np.square(W1))+np.sum(np.square(W2))+np.sum(np.square(W3)))/(2*total_images)\n",
    "    ### END CODER HERE ###\n",
    "    \n",
    "    total_cost = cross_entropy_cost + L2_regularization_cost\n",
    "    \n",
    "    return total_cost"
   ]
  },
  {
   "cell_type": "markdown",
   "metadata": {},
   "source": [
    "### Update parameters with gradient descent"
   ]
  },
  {
   "cell_type": "code",
   "execution_count": 666,
   "metadata": {},
   "outputs": [],
   "source": [
    "def update(parameters,gradients,learning_rate):\n",
    "    number_of_layers=len(parameters)//2  # sice W and B in 1 params so /2\n",
    "    #print(\"prev weight \",parameters[\"W1\"])\n",
    "    #print(\"prev grad \",gradients[\"dW1\"])\n",
    "    for l in range(number_of_layers):\n",
    "        parameters[\"W\"+str(l+1)]-=learning_rate*gradients[\"dW\"+str(l+1)]\n",
    "        parameters[\"b\"+str(l+1)]-=learning_rate*gradients[\"db\"+str(l+1)]\n",
    "    #print(\"new weight \",parameters[\"W1\"])\n",
    "    return parameters"
   ]
  },
  {
   "cell_type": "markdown",
   "metadata": {},
   "source": [
    "### Update parameters with gradient descent with momentum"
   ]
  },
  {
   "cell_type": "code",
   "execution_count": 667,
   "metadata": {},
   "outputs": [],
   "source": [
    "def update_with_momentum(parameters,gradients,learning_rate,beta,beta2):\n",
    "    number_of_layers=len(parameters)//2  # sice W and B in 1 params so /2\n",
    "    #print(\"prev weight \",parameters[\"W1\"])\n",
    "    #print(\"prev grad \",gradients[\"dW1\"])\n",
    "    # Initialize velocity\n",
    "    v={}\n",
    "    s={}\n",
    "    epsilon=1e-8\n",
    "    for l in range(number_of_layers):\n",
    "        ### START CODE HERE ### (approx. 2 lines)\n",
    "        v[\"dW\" + str(l+1)] = np.zeros(parameters['W' + str(l+1)].shape)\n",
    "        v[\"db\" + str(l+1)] = np.zeros(parameters['b' + str(l+1)].shape)\n",
    "        s[\"dW\" + str(l+1)] = np.zeros(parameters['W' + str(l+1)].shape)\n",
    "        s[\"db\" + str(l+1)] = np.zeros(parameters['b' + str(l+1)].shape)\n",
    "\n",
    "    for l in range(number_of_layers):\n",
    "        # compute velocities\n",
    "        v[\"dW\" + str(l+1)] = beta*v[\"dW\" + str(l+1)] + (1-beta)*gradients['dW' + str(l+1)]\n",
    "        v[\"db\" + str(l+1)] = beta*v[\"db\" + str(l+1)] + (1-beta)*gradients['db' + str(l+1)]\n",
    "        \n",
    "        # Moving average of the squared gradients. \n",
    "        \n",
    "        s[\"dW\" + str(l+1)] = beta2*s[\"dW\" + str(l+1)] + (1-beta2)*(gradients[\"dW\" + str(l+1)]**2)\n",
    "        s[\"db\" + str(l+1)] = beta2*s[\"db\" + str(l+1)] + (1-beta2)*(gradients[\"db\" + str(l+1)]**2)\n",
    "        \n",
    "        # update parameters\n",
    "        parameters[\"W\" + str(l+1)] = parameters[\"W\" + str(l+1)] - learning_rate*v[\"dW\" + str(l+1)]\\\n",
    "                                                                    /(s[\"dW\" + str(l+1)]**0.5+epsilon)\n",
    "        parameters[\"b\" + str(l+1)] = parameters[\"b\" + str(l+1)] - learning_rate*v[\"db\" + str(l+1)]\\\n",
    "                                                                    /(s[\"db\" + str(l+1)]**0.5+epsilon)\n",
    "    #print(\"new weight \",parameters[\"W1\"])\n",
    "    return parameters"
   ]
  },
  {
   "cell_type": "markdown",
   "metadata": {},
   "source": [
    "### Define complete Pipeline"
   ]
  },
  {
   "cell_type": "code",
   "execution_count": 686,
   "metadata": {},
   "outputs": [],
   "source": [
    "### CONSTANTS ###\n",
    "layers_dims = [11664,32, 10, 6] #  3-layer model\n",
    "#layers_dims = [11664,10,6]\n",
    "learning_rate = 1e-3\n",
    "num_iterations = 100\n",
    "L2_regularizer_lambd=0.1\n",
    "momentum_beta=0.999\n",
    "momentum_beta2=0.9\n",
    "mini_batch_size=64\n",
    "learning_rate_decay=0.95"
   ]
  },
  {
   "cell_type": "code",
   "execution_count": 669,
   "metadata": {},
   "outputs": [],
   "source": [
    "\n",
    "def model(X,Y,layer_dims,learning_rate , num_iterations,learning_rate_decay):\n",
    "    costs = [] \n",
    "    seed = 0\n",
    "    parameters=initialization(layer_dims)\n",
    "    iterations_per_epoch = max(X.shape[1] / mini_batch_size, 1)\n",
    "    #print(\"para   \",parameters)\n",
    "    for i in range(0,num_iterations):\n",
    "        seed = seed + 1\n",
    "        minibatches = random_mini_batches(X, Y, mini_batch_size, seed)\n",
    "        for indx,minibatch in enumerate(minibatches):\n",
    "            # Select a minibatch\n",
    "            (minibatch_X, minibatch_Y) = minibatch\n",
    "            #forward propogation\n",
    "            y_hat,cache_data = forward_prop(minibatch_X,parameters)\n",
    "            #iter_cost=cost(y_hat,minibatch_Y) #non-regularized cost\n",
    "            iter_cost = compute_cost_with_regularization(y_hat,minibatch_Y,parameters,L2_regularizer_lambd)\n",
    "                \n",
    "            \n",
    "            if indx % 100 == 0:\n",
    "                #train_acc = (y_hat == minibatch_Y).mean()\n",
    "                \n",
    "                \n",
    "                #print(\"train accuracy after epoch {} : {}\".format(train_acc,i+1))\n",
    "                print(\"Cost after epoch {0} and batch : {1}: {2}\".format(i+1,indx+1, np.squeeze(iter_cost)))\n",
    "                costs.append(iter_cost)\n",
    "            \n",
    "            #gradients=backward_prop(y_hat,minibatch_Y,cache_data)\n",
    "            gradients = backward_prop_with_regularization(y_hat,minibatch_Y,cache_data,L2_regularizer_lambd)\n",
    "            parameters=update_with_momentum(parameters,gradients,learning_rate,momentum_beta,momentum_beta2)\n",
    "\n",
    "        if i % 1 == 0:\n",
    "                print(\"\\n Cost after iteration {}: {} \\n\".format(i+1, np.squeeze(iter_cost)))\n",
    "                costs.append(iter_cost)\n",
    "        if i % 10 == 0:\n",
    "                # Decay learning rate\n",
    "                learning_rate *= learning_rate_decay\n",
    "                print(\"\\nreduced learning rate to : {}\\n\".format(learning_rate))\n",
    "        if i%10==0:\n",
    "            time = datetime.now().strftime(\"%d-%m-%Y_%I-%M-%S_%p\")\n",
    "            with open('parameters_{0}.pickle'.format(time), 'wb') as handle:\n",
    "                pickle.dump(parameters, handle, protocol=pickle.HIGHEST_PROTOCOL)\n",
    "    return parameters,costs"
   ]
  },
  {
   "cell_type": "code",
   "execution_count": 670,
   "metadata": {},
   "outputs": [],
   "source": [
    "def model_old(X,Y,layer_dims,learning_rate , num_iterations):\n",
    "    costs = [] \n",
    "    seed = 0\n",
    "    parameters=initialization(layer_dims)\n",
    "    #print(\"para   \",parameters)\n",
    "    for i in range(0,num_iterations):\n",
    "        \n",
    "        y_hat,cache_data = forward_prop(X,parameters)\n",
    "        #iter_cost=cost(y_hat,minibatch_Y) #non-regularized cost\n",
    "        iter_cost = compute_cost_with_regularization(y_hat,Y,parameters,L2_regularizer_lambd)\n",
    "\n",
    "        if i % 1 == 0:\n",
    "            print(\"\\n Cost after iteration {}: {} \\n\".format(i+1, np.squeeze(iter_cost)))\n",
    "            costs.append(iter_cost)\n",
    "\n",
    "        #gradients=backward_prop(y_hat,minibatch_Y,cache_data)\n",
    "        gradients = backward_prop_with_regularization(y_hat,Y,cache_data,L2_regularizer_lambd)\n",
    "        parameters=update(parameters,gradients,learning_rate)\n",
    "\n",
    "        \n",
    "        if i%1000==0:\n",
    "            time = datetime.now().strftime(\"%d-%m-%Y_%I-%M-%S_%p\")\n",
    "            with open('parameters_{0}.pickle'.format(time), 'wb') as handle:\n",
    "                pickle.dump(parameters, handle, protocol=pickle.HIGHEST_PROTOCOL)\n",
    "    return parameters,costs"
   ]
  },
  {
   "cell_type": "markdown",
   "metadata": {},
   "source": [
    "### Plot cost for Visualization"
   ]
  },
  {
   "cell_type": "code",
   "execution_count": 671,
   "metadata": {},
   "outputs": [],
   "source": [
    "def plot_cost(costs):\n",
    "    # plot the cost\n",
    "    fig = plt.figure()\n",
    "    plt.plot(np.squeeze(costs))\n",
    "    plt.ylabel('cost')\n",
    "    plt.xlabel('iterations (per hundred)')\n",
    "    plt.title(\"Learning rate =\" + str(learning_rate))\n",
    "    #plt.show()\n",
    "    plt.savefig('cost_2.png')"
   ]
  },
  {
   "cell_type": "markdown",
   "metadata": {},
   "source": [
    "### Model Prediction"
   ]
  },
  {
   "cell_type": "code",
   "execution_count": 672,
   "metadata": {},
   "outputs": [],
   "source": [
    "def predict(X, y, parameters,acc_type):\n",
    "    \n",
    "    total_images = y.shape[1]\n",
    "    p = np.zeros((1,total_images), dtype = np.int)\n",
    "    \n",
    "    # Forward propagation\n",
    "    y_hat,cache_data = forward_prop(X,parameters)\n",
    "    \n",
    "    prediction=np.argmax(y_hat,axis=0)\n",
    "    prediction=np.squeeze(prediction.reshape(y_hat.shape[1],1))\n",
    "    actual_label=np.squeeze(y)\n",
    "    accuracy = sum(prediction == actual_label)/(float(len(actual_label)))\n",
    "    \n",
    "    print(\" {} Accuracy: {}\".format(acc_type,accuracy))"
   ]
  },
  {
   "cell_type": "markdown",
   "metadata": {},
   "source": [
    "### Train Model"
   ]
  },
  {
   "cell_type": "code",
   "execution_count": null,
   "metadata": {},
   "outputs": [
    {
     "name": "stdout",
     "output_type": "stream",
     "text": [
      "Cost after epoch 1 and batch : 1: 1.4249556939319268\n",
      "Cost after epoch 1 and batch : 101: 1.3112659877404875\n",
      "Cost after epoch 1 and batch : 201: 1.458409043725561\n",
      "Cost after epoch 1 and batch : 301: 1.393150372987975\n",
      "\n",
      " Cost after iteration 1: 1.5590965660229477 \n",
      "\n",
      "\n",
      "reduced learning rate to : 0.00095\n",
      "\n",
      "Cost after epoch 2 and batch : 1: 1.3860955142988618\n",
      "Cost after epoch 2 and batch : 101: 1.3583611730032983\n",
      "Cost after epoch 2 and batch : 201: 1.3040898928164943\n",
      "Cost after epoch 2 and batch : 301: 1.4631521277613242\n",
      "\n",
      " Cost after iteration 2: 1.356877679527289 \n",
      "\n",
      "Cost after epoch 3 and batch : 1: 1.4153762896313427\n",
      "Cost after epoch 3 and batch : 101: 1.546334333338941\n",
      "Cost after epoch 3 and batch : 201: 1.3520618877310213\n",
      "Cost after epoch 3 and batch : 301: 1.3640505390430475\n",
      "\n",
      " Cost after iteration 3: 1.427454933443222 \n",
      "\n",
      "Cost after epoch 4 and batch : 1: 1.2805965342052823\n",
      "Cost after epoch 4 and batch : 101: 1.44927530987814\n",
      "Cost after epoch 4 and batch : 201: 1.3405178850105877\n",
      "Cost after epoch 4 and batch : 301: 1.5224021957135003\n",
      "\n",
      " Cost after iteration 4: 1.4667038841809839 \n",
      "\n",
      "Cost after epoch 5 and batch : 1: 1.2919156421479423\n",
      "Cost after epoch 5 and batch : 101: 1.2558224715099904\n",
      "Cost after epoch 5 and batch : 201: 1.3539233552696828\n",
      "Cost after epoch 5 and batch : 301: 1.4927489813896895\n",
      "\n",
      " Cost after iteration 5: 1.2469457993200221 \n",
      "\n",
      "Cost after epoch 6 and batch : 1: 1.2430737164030963\n",
      "Cost after epoch 6 and batch : 101: 1.309890169812148\n",
      "Cost after epoch 6 and batch : 201: 1.4473279967178836\n",
      "Cost after epoch 6 and batch : 301: 1.2446579685581547\n",
      "\n",
      " Cost after iteration 6: 1.463136417576348 \n",
      "\n",
      "Cost after epoch 7 and batch : 1: 1.414036781669329\n",
      "Cost after epoch 7 and batch : 101: 1.3756814354332596\n",
      "Cost after epoch 7 and batch : 201: 1.3100424660144576\n",
      "Cost after epoch 7 and batch : 301: 1.3613217255277958\n",
      "\n",
      " Cost after iteration 7: 1.448594483100531 \n",
      "\n",
      "Cost after epoch 8 and batch : 1: 1.1939156976592908\n",
      "Cost after epoch 8 and batch : 101: 1.3085569521977236\n",
      "Cost after epoch 8 and batch : 201: 1.373254458728034\n",
      "Cost after epoch 8 and batch : 301: 1.2866670634904078\n",
      "\n",
      " Cost after iteration 8: 1.4381077712664738 \n",
      "\n",
      "Cost after epoch 9 and batch : 1: 1.4148484969311335\n",
      "Cost after epoch 9 and batch : 101: 1.3135146055654185\n",
      "Cost after epoch 9 and batch : 201: 1.354473425953679\n",
      "Cost after epoch 9 and batch : 301: 1.3730739909598548\n",
      "\n",
      " Cost after iteration 9: 1.2809056023096268 \n",
      "\n",
      "Cost after epoch 10 and batch : 1: 1.3731211180126646\n",
      "Cost after epoch 10 and batch : 101: 1.3835051017059146\n",
      "Cost after epoch 10 and batch : 201: 1.3471867112128164\n",
      "Cost after epoch 10 and batch : 301: 1.4027816610756951\n",
      "\n",
      " Cost after iteration 10: 1.2125738972984246 \n",
      "\n",
      "Cost after epoch 11 and batch : 1: 1.334263030301281\n",
      "Cost after epoch 11 and batch : 101: 1.320775618197221\n",
      "Cost after epoch 11 and batch : 201: 1.4770034288294573\n",
      "Cost after epoch 11 and batch : 301: 1.276960486818669\n",
      "\n",
      " Cost after iteration 11: 1.4827042641235395 \n",
      "\n",
      "\n",
      "reduced learning rate to : 0.0009025\n",
      "\n",
      "Cost after epoch 12 and batch : 1: 1.3357544631824145\n",
      "Cost after epoch 12 and batch : 101: 1.420646930218244\n",
      "Cost after epoch 12 and batch : 201: 1.4952767371598306\n",
      "Cost after epoch 12 and batch : 301: 1.6165551052538087\n",
      "\n",
      " Cost after iteration 12: 1.228702420607241 \n",
      "\n",
      "Cost after epoch 13 and batch : 1: 1.328586226204309\n",
      "Cost after epoch 13 and batch : 101: 1.3374545729772613\n",
      "Cost after epoch 13 and batch : 201: 1.46594941266599\n",
      "Cost after epoch 13 and batch : 301: 1.289400014511246\n",
      "\n",
      " Cost after iteration 13: 1.2778114719308409 \n",
      "\n",
      "Cost after epoch 14 and batch : 1: 1.4513893242117697\n",
      "Cost after epoch 14 and batch : 101: 1.337361100633863\n",
      "Cost after epoch 14 and batch : 201: 1.3330404121520412\n",
      "Cost after epoch 14 and batch : 301: 1.4074167528076806\n",
      "\n",
      " Cost after iteration 14: 1.4222731407432827 \n",
      "\n",
      "Cost after epoch 15 and batch : 1: 1.453710956476235\n",
      "Cost after epoch 15 and batch : 101: 1.4625763236405167\n",
      "Cost after epoch 15 and batch : 201: 1.4705139119615833\n",
      "Cost after epoch 15 and batch : 301: 1.4272843134468411\n",
      "\n",
      " Cost after iteration 15: 1.316751651851391 \n",
      "\n",
      "Cost after epoch 16 and batch : 1: 1.3323842586376875\n",
      "Cost after epoch 16 and batch : 101: 1.4215769459097465\n",
      "Cost after epoch 16 and batch : 201: 1.3275139823315159\n",
      "Cost after epoch 16 and batch : 301: 1.6013858949987483\n",
      "\n",
      " Cost after iteration 16: 1.368117191622633 \n",
      "\n",
      "Cost after epoch 17 and batch : 1: 1.3023289797454038\n",
      "Cost after epoch 17 and batch : 101: 1.3189340360182509\n",
      "Cost after epoch 17 and batch : 201: 1.4885347731457257\n",
      "Cost after epoch 17 and batch : 301: 1.3005485265269705\n",
      "\n",
      " Cost after iteration 17: 1.5328565252213389 \n",
      "\n",
      "Cost after epoch 18 and batch : 1: 1.522609497427172\n",
      "Cost after epoch 18 and batch : 101: 1.3819549734090322\n",
      "Cost after epoch 18 and batch : 201: 1.3760143764297081\n",
      "Cost after epoch 18 and batch : 301: 1.2612594419315344\n",
      "\n",
      " Cost after iteration 18: 1.0696423799775228 \n",
      "\n",
      "Cost after epoch 19 and batch : 1: 1.3780494086374364\n",
      "Cost after epoch 19 and batch : 101: 1.330184465390993\n",
      "Cost after epoch 19 and batch : 201: 1.4459405842010944\n",
      "Cost after epoch 19 and batch : 301: 1.3938637457896732\n",
      "\n",
      " Cost after iteration 19: 1.3824279362268208 \n",
      "\n",
      "Cost after epoch 20 and batch : 1: 1.4444047231417014\n",
      "Cost after epoch 20 and batch : 101: 1.3633819852376907\n",
      "Cost after epoch 20 and batch : 201: 1.3129853718908107\n",
      "Cost after epoch 20 and batch : 301: 1.1994707136248068\n",
      "\n",
      " Cost after iteration 20: 1.4711678538261241 \n",
      "\n",
      "Cost after epoch 21 and batch : 1: 1.1988628949224054\n",
      "Cost after epoch 21 and batch : 101: 1.2851192710389407\n",
      "Cost after epoch 21 and batch : 201: 1.2308592306284671\n",
      "Cost after epoch 21 and batch : 301: 1.444340583031236\n",
      "\n",
      " Cost after iteration 21: 1.6163924238162433 \n",
      "\n",
      "\n",
      "reduced learning rate to : 0.000857375\n",
      "\n",
      "Cost after epoch 22 and batch : 1: 1.3465322695351303\n",
      "Cost after epoch 22 and batch : 101: 1.3911602826950116\n",
      "Cost after epoch 22 and batch : 201: 1.3982989794452876\n",
      "Cost after epoch 22 and batch : 301: 1.3061493198406713\n",
      "\n",
      " Cost after iteration 22: 1.3818316281672636 \n",
      "\n",
      "Cost after epoch 23 and batch : 1: 1.4060880193699656\n",
      "Cost after epoch 23 and batch : 101: 1.551476326408457\n",
      "Cost after epoch 23 and batch : 201: 1.3307723650695147\n",
      "Cost after epoch 23 and batch : 301: 1.4633646999857093\n",
      "\n",
      " Cost after iteration 23: 1.2366352649630423 \n",
      "\n",
      "Cost after epoch 24 and batch : 1: 1.47833514494994\n",
      "Cost after epoch 24 and batch : 101: 1.3578747435940235\n",
      "Cost after epoch 24 and batch : 201: 1.5087487727230426\n",
      "Cost after epoch 24 and batch : 301: 1.495727393380167\n",
      "\n",
      " Cost after iteration 24: 1.439074725738945 \n",
      "\n",
      "Cost after epoch 25 and batch : 1: 1.3484161425571186\n",
      "Cost after epoch 25 and batch : 101: 1.3568926498781402\n",
      "Cost after epoch 25 and batch : 201: 1.326361323135255\n",
      "Cost after epoch 25 and batch : 301: 1.2568731917489175\n",
      "\n",
      " Cost after iteration 25: 1.6344107276304305 \n",
      "\n",
      "Cost after epoch 26 and batch : 1: 1.4835559786386119\n",
      "Cost after epoch 26 and batch : 101: 1.4534499150896565\n",
      "Cost after epoch 26 and batch : 201: 1.4248850502464667\n",
      "Cost after epoch 26 and batch : 301: 1.3765657494064478\n",
      "\n",
      " Cost after iteration 26: 1.3661050157765977 \n",
      "\n",
      "Cost after epoch 27 and batch : 1: 1.3447330302572615\n",
      "Cost after epoch 27 and batch : 101: 1.3275968751579696\n",
      "Cost after epoch 27 and batch : 201: 1.2864973862951792\n",
      "Cost after epoch 27 and batch : 301: 1.2507498045438157\n",
      "\n",
      " Cost after iteration 27: 1.189172895965749 \n",
      "\n",
      "Cost after epoch 28 and batch : 1: 1.175719398441569\n",
      "Cost after epoch 28 and batch : 101: 1.397126445781254\n",
      "Cost after epoch 28 and batch : 201: 1.4511885406084213\n",
      "Cost after epoch 28 and batch : 301: 1.4039023097085663\n",
      "\n",
      " Cost after iteration 28: 1.3040599913680784 \n",
      "\n",
      "Cost after epoch 29 and batch : 1: 1.2932001488877352\n",
      "Cost after epoch 29 and batch : 101: 1.5188562305023723\n",
      "Cost after epoch 29 and batch : 201: 1.3712761948959697\n",
      "Cost after epoch 29 and batch : 301: 1.2497311886366151\n",
      "\n",
      " Cost after iteration 29: 1.3564737438190617 \n",
      "\n",
      "Cost after epoch 30 and batch : 1: 1.4092797683337122\n",
      "Cost after epoch 30 and batch : 101: 1.4300686846667137\n",
      "Cost after epoch 30 and batch : 201: 1.487545443873452\n",
      "Cost after epoch 30 and batch : 301: 1.2279935119635612\n",
      "\n",
      " Cost after iteration 30: 1.4567565997470509 \n",
      "\n",
      "Cost after epoch 31 and batch : 1: 1.4132303421244106\n",
      "Cost after epoch 31 and batch : 101: 1.3832014633879703\n"
     ]
    },
    {
     "name": "stdout",
     "output_type": "stream",
     "text": [
      "Cost after epoch 31 and batch : 201: 1.3004659852905351\n",
      "Cost after epoch 31 and batch : 301: 1.3230617065862502\n",
      "\n",
      " Cost after iteration 31: 1.569048195405235 \n",
      "\n",
      "\n",
      "reduced learning rate to : 0.0008145062499999999\n",
      "\n",
      "Cost after epoch 32 and batch : 1: 1.3187497239725787\n",
      "Cost after epoch 32 and batch : 101: 1.3723079195544694\n",
      "Cost after epoch 32 and batch : 201: 1.280642307805151\n",
      "Cost after epoch 32 and batch : 301: 1.2952630467152253\n",
      "\n",
      " Cost after iteration 32: 1.2724103713720303 \n",
      "\n",
      "Cost after epoch 33 and batch : 1: 1.2742185396489698\n",
      "Cost after epoch 33 and batch : 101: 1.4977781661534844\n",
      "Cost after epoch 33 and batch : 201: 1.321946756496465\n",
      "Cost after epoch 33 and batch : 301: 1.1444901438907473\n",
      "\n",
      " Cost after iteration 33: 1.5299882411711145 \n",
      "\n",
      "Cost after epoch 34 and batch : 1: 1.4771616039197295\n",
      "Cost after epoch 34 and batch : 101: 1.2740501178096026\n",
      "Cost after epoch 34 and batch : 201: 1.355215458276007\n",
      "Cost after epoch 34 and batch : 301: 1.3579458202479822\n",
      "\n",
      " Cost after iteration 34: 1.282538506058671 \n",
      "\n",
      "Cost after epoch 35 and batch : 1: 1.423852265585743\n",
      "Cost after epoch 35 and batch : 101: 1.3519525275029745\n",
      "Cost after epoch 35 and batch : 201: 1.3224379881077588\n",
      "Cost after epoch 35 and batch : 301: 1.3754632131733378\n",
      "\n",
      " Cost after iteration 35: 1.3061222020434469 \n",
      "\n",
      "Cost after epoch 36 and batch : 1: 1.3960398836795522\n",
      "Cost after epoch 36 and batch : 101: 1.268631928345396\n",
      "Cost after epoch 36 and batch : 201: 1.3050350943202766\n",
      "Cost after epoch 36 and batch : 301: 1.4884196515816082\n",
      "\n",
      " Cost after iteration 36: 1.5125453190668365 \n",
      "\n",
      "Cost after epoch 37 and batch : 1: 1.3316573140407104\n",
      "Cost after epoch 37 and batch : 101: 1.1822240358428\n",
      "Cost after epoch 37 and batch : 201: 1.2935964542295284\n",
      "Cost after epoch 37 and batch : 301: 1.2954972071910555\n",
      "\n",
      " Cost after iteration 37: 1.2853373817189517 \n",
      "\n",
      "Cost after epoch 38 and batch : 1: 1.3758496425656659\n",
      "Cost after epoch 38 and batch : 101: 1.2034002496891858\n",
      "Cost after epoch 38 and batch : 201: 1.4042467555349605\n",
      "Cost after epoch 38 and batch : 301: 1.2959155560908262\n",
      "\n",
      " Cost after iteration 38: 1.560004013097471 \n",
      "\n",
      "Cost after epoch 39 and batch : 1: 1.3775882448629375\n",
      "Cost after epoch 39 and batch : 101: 1.4122874015231215\n",
      "Cost after epoch 39 and batch : 201: 1.3791233281355717\n",
      "Cost after epoch 39 and batch : 301: 1.3484089930849703\n",
      "\n",
      " Cost after iteration 39: 1.0862098566074891 \n",
      "\n",
      "Cost after epoch 40 and batch : 1: 1.2727347949019603\n",
      "Cost after epoch 40 and batch : 101: 1.1616786984456644\n",
      "Cost after epoch 40 and batch : 201: 1.4145413990733444\n",
      "Cost after epoch 40 and batch : 301: 1.417482771870081\n",
      "\n",
      " Cost after iteration 40: 1.341512766754955 \n",
      "\n",
      "Cost after epoch 41 and batch : 1: 1.410473886904447\n",
      "Cost after epoch 41 and batch : 101: 1.506907877884812\n",
      "Cost after epoch 41 and batch : 201: 1.3510513496193386\n",
      "Cost after epoch 41 and batch : 301: 1.496068231163856\n",
      "\n",
      " Cost after iteration 41: 1.2356940253524757 \n",
      "\n",
      "\n",
      "reduced learning rate to : 0.0007737809374999998\n",
      "\n",
      "Cost after epoch 42 and batch : 1: 1.3264951241757341\n",
      "Cost after epoch 42 and batch : 101: 1.1740575937088429\n",
      "Cost after epoch 42 and batch : 201: 1.2998246519919805\n",
      "Cost after epoch 42 and batch : 301: 1.4799943663701391\n",
      "\n",
      " Cost after iteration 42: 1.555987260057425 \n",
      "\n",
      "Cost after epoch 43 and batch : 1: 1.3890542167394522\n",
      "Cost after epoch 43 and batch : 101: 1.4377588724072312\n",
      "Cost after epoch 43 and batch : 201: 1.3296654185321872\n",
      "Cost after epoch 43 and batch : 301: 1.3985902528133158\n",
      "\n",
      " Cost after iteration 43: 1.3380443530540918 \n",
      "\n",
      "Cost after epoch 44 and batch : 1: 1.473582054568486\n",
      "Cost after epoch 44 and batch : 101: 1.4927338596997046\n",
      "Cost after epoch 44 and batch : 201: 1.517993781543837\n",
      "Cost after epoch 44 and batch : 301: 1.3347964767795581\n",
      "\n",
      " Cost after iteration 44: 1.3066584729576038 \n",
      "\n",
      "Cost after epoch 45 and batch : 1: 1.246055046924504\n",
      "Cost after epoch 45 and batch : 101: 1.3912395719445336\n",
      "Cost after epoch 45 and batch : 201: 1.3072784891179408\n",
      "Cost after epoch 45 and batch : 301: 1.2394988615861426\n",
      "\n",
      " Cost after iteration 45: 1.4351735800361434 \n",
      "\n",
      "Cost after epoch 46 and batch : 1: 1.2742314438104063\n",
      "Cost after epoch 46 and batch : 101: 1.5264795528409634\n",
      "Cost after epoch 46 and batch : 201: 1.35860014231175\n",
      "Cost after epoch 46 and batch : 301: 1.4505668723959162\n",
      "\n",
      " Cost after iteration 46: 1.2900953216642932 \n",
      "\n",
      "Cost after epoch 47 and batch : 1: 1.4728249451846098\n",
      "Cost after epoch 47 and batch : 101: 1.406882387404013\n",
      "Cost after epoch 47 and batch : 201: 1.5563978612912257\n",
      "Cost after epoch 47 and batch : 301: 1.2291792582851633\n",
      "\n",
      " Cost after iteration 47: 1.2823162652609217 \n",
      "\n",
      "Cost after epoch 48 and batch : 1: 1.3910506959732152\n",
      "Cost after epoch 48 and batch : 101: 1.2814400135296296\n",
      "Cost after epoch 48 and batch : 201: 1.2966920742470842\n",
      "Cost after epoch 48 and batch : 301: 1.3302874380006688\n",
      "\n",
      " Cost after iteration 48: 1.4356901254865917 \n",
      "\n",
      "Cost after epoch 49 and batch : 1: 1.362907987643365\n",
      "Cost after epoch 49 and batch : 101: 1.365881296046993\n",
      "Cost after epoch 49 and batch : 201: 1.4661223700435373\n",
      "Cost after epoch 49 and batch : 301: 1.1804589856776506\n",
      "\n",
      " Cost after iteration 49: 1.2830708929048167 \n",
      "\n",
      "Cost after epoch 50 and batch : 1: 1.2925500300864605\n",
      "Cost after epoch 50 and batch : 101: 1.1767020836533268\n",
      "Cost after epoch 50 and batch : 201: 1.2730008889750037\n",
      "Cost after epoch 50 and batch : 301: 1.2750322283105158\n",
      "\n",
      " Cost after iteration 50: 1.423692691968481 \n",
      "\n",
      "Cost after epoch 51 and batch : 1: 1.412154185905092\n",
      "Cost after epoch 51 and batch : 101: 1.30996919771958\n",
      "Cost after epoch 51 and batch : 201: 1.3355359150185313\n"
     ]
    }
   ],
   "source": [
    "paramerters,costs = model(train_data,train_labels,layers_dims,learning_rate,num_iterations,learning_rate_decay)\n",
    "#plot cost\n",
    "plot_cost(costs)"
   ]
  },
  {
   "cell_type": "markdown",
   "metadata": {},
   "source": [
    "### Model Accuracy"
   ]
  },
  {
   "cell_type": "code",
   "execution_count": 684,
   "metadata": {},
   "outputs": [
    {
     "name": "stdout",
     "output_type": "stream",
     "text": [
      " Training Accuracy: 0.4742798353909465\n"
     ]
    }
   ],
   "source": [
    "# Train accuracy\n",
    "predict(train_data,train_labels_acc,paramerters,\"Training\")"
   ]
  },
  {
   "cell_type": "code",
   "execution_count": 685,
   "metadata": {},
   "outputs": [
    {
     "name": "stdout",
     "output_type": "stream",
     "text": [
      " Validation Accuracy: 0.4094650205761317\n"
     ]
    }
   ],
   "source": [
    "# Validation accuracy\n",
    "predict(validation_data,validation_labels,paramerters,\"Validation\")"
   ]
  },
  {
   "cell_type": "markdown",
   "metadata": {},
   "source": [
    "### Create CSV for kaggle upload"
   ]
  },
  {
   "cell_type": "code",
   "execution_count": 676,
   "metadata": {},
   "outputs": [],
   "source": [
    "def convert_submission_csv(X,parameters):\n",
    "    # Forward propagation\n",
    "    y_hat,cache_data = forward_prop(X,parameters)\n",
    "    \n",
    "    prediction=np.argmax(y_hat,axis=0)\n",
    "    prediction=np.squeeze(prediction.reshape(y_hat.shape[1],1))\n",
    "    df = pd.DataFrame(data=prediction,columns=[\"label\"])\n",
    "    df = df.rename_axis('id').reset_index()\n",
    "    return df\n",
    "    "
   ]
  },
  {
   "cell_type": "code",
   "execution_count": 677,
   "metadata": {},
   "outputs": [],
   "source": [
    "df = convert_submission_csv(test_data,paramerters)\n",
    "df.to_csv('submission.csv',index=False)"
   ]
  },
  {
   "cell_type": "code",
   "execution_count": null,
   "metadata": {},
   "outputs": [],
   "source": []
  }
 ],
 "metadata": {
  "kernelspec": {
   "display_name": "Python 3",
   "language": "python",
   "name": "python3"
  },
  "language_info": {
   "codemirror_mode": {
    "name": "ipython",
    "version": 3
   },
   "file_extension": ".py",
   "mimetype": "text/x-python",
   "name": "python",
   "nbconvert_exporter": "python",
   "pygments_lexer": "ipython3",
   "version": "3.6.8"
  }
 },
 "nbformat": 4,
 "nbformat_minor": 2
}
