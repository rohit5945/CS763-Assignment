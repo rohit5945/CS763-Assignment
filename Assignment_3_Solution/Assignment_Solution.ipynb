{
 "cells": [
  {
   "cell_type": "markdown",
   "metadata": {},
   "source": [
    "### Import relevant packages"
   ]
  },
  {
   "cell_type": "code",
   "execution_count": 38,
   "metadata": {},
   "outputs": [],
   "source": [
    "import numpy as np\n",
    "import cv2\n",
    "#from utilities import *\n",
    "import torchfile as tr\n",
    "import matplotlib.pyplot as plt\n",
    "from sklearn import preprocessing\n",
    "import pickle\n",
    "from datetime import datetime\n",
    "%matplotlib inline\n",
    "import math\n",
    "import pandas as pd"
   ]
  },
  {
   "cell_type": "markdown",
   "metadata": {},
   "source": [
    "### Load training and test data"
   ]
  },
  {
   "cell_type": "code",
   "execution_count": 39,
   "metadata": {},
   "outputs": [],
   "source": [
    "train_data = tr.load('../data.bin')\n",
    "test_data = tr.load('../test.bin')\n",
    "train_labels=tr.load('../labels.bin')"
   ]
  },
  {
   "cell_type": "code",
   "execution_count": 40,
   "metadata": {},
   "outputs": [
    {
     "name": "stdout",
     "output_type": "stream",
     "text": [
      "Training data shape :(29160, 108, 108)\n",
      "Testing data shape :(29160, 108, 108)\n",
      "Training label data shape :(29160,)\n"
     ]
    }
   ],
   "source": [
    "print(\"Training data shape :{}\".format(train_data.shape))\n",
    "print(\"Testing data shape :{}\".format(test_data.shape))\n",
    "print(\"Training label data shape :{}\".format(train_labels.shape))"
   ]
  },
  {
   "cell_type": "markdown",
   "metadata": {},
   "source": [
    "### Split train data to train and val data"
   ]
  },
  {
   "cell_type": "code",
   "execution_count": 41,
   "metadata": {},
   "outputs": [],
   "source": [
    "from sklearn.model_selection import train_test_split\n",
    "test_x,valid_x,test_y,valid_y=train_test_split(train_data,train_labels,test_size=0.2,random_state=0)"
   ]
  },
  {
   "cell_type": "markdown",
   "metadata": {},
   "source": [
    "### Image plot for data Visualization"
   ]
  },
  {
   "cell_type": "code",
   "execution_count": 42,
   "metadata": {},
   "outputs": [],
   "source": [
    "index=14\n",
    "img=train_data[index]"
   ]
  },
  {
   "cell_type": "code",
   "execution_count": 43,
   "metadata": {},
   "outputs": [
    {
     "data": {
      "text/plain": [
       "<matplotlib.image.AxesImage at 0x7fa491ea2438>"
      ]
     },
     "execution_count": 43,
     "metadata": {},
     "output_type": "execute_result"
    },
    {
     "data": {
      "image/png": "[encoded data removed]",
      "text/plain": [
       "<Figure size 432x288 with 1 Axes>"
      ]
     },
     "metadata": {
      "needs_background": "light"
     },
     "output_type": "display_data"
    }
   ],
   "source": [
    "plt.imshow(img,cmap='gray')"
   ]
  },
  {
   "cell_type": "markdown",
   "metadata": {},
   "source": [
    "### Reshaping training and test data"
   ]
  },
  {
   "cell_type": "code",
   "execution_count": 44,
   "metadata": {},
   "outputs": [],
   "source": [
    "#Reshaping training data to (108*108,29160)\n",
    "train_data=test_x.reshape(test_x.shape[0],-1).T\n",
    "validation_data=valid_x.reshape(valid_x.shape[0],-1).T"
   ]
  },
  {
   "cell_type": "code",
   "execution_count": 45,
   "metadata": {},
   "outputs": [],
   "source": [
    "#Reshaping test data to shape (108*108,29160)\n",
    "test_data=test_data.reshape(test_data.shape[0],-1).T"
   ]
  },
  {
   "cell_type": "code",
   "execution_count": 46,
   "metadata": {},
   "outputs": [],
   "source": [
    "#Reshaping train labels to (29160,1)\n",
    "train_labels=test_y.reshape(test_y.shape[0],-1).T\n",
    "validation_labels=valid_y.reshape(valid_y.shape[0],-1).T"
   ]
  },
  {
   "cell_type": "code",
   "execution_count": 47,
   "metadata": {},
   "outputs": [],
   "source": [
    "train_labels_acc=np.copy(train_labels)"
   ]
  },
  {
   "cell_type": "markdown",
   "metadata": {},
   "source": [
    "### Convert Lables to one hot vectors"
   ]
  },
  {
   "cell_type": "code",
   "execution_count": 48,
   "metadata": {},
   "outputs": [],
   "source": [
    "train_labels=np.squeeze(np.eye(6)[train_labels]).T\n",
    "#validation_labels=np.squeeze(np.eye(6)[validation_labels]).T"
   ]
  },
  {
   "cell_type": "code",
   "execution_count": 49,
   "metadata": {},
   "outputs": [
    {
     "name": "stdout",
     "output_type": "stream",
     "text": [
      "Training data shape after Reshape:(11664, 23328)\n",
      "Training label data shape after Reshape:(6, 23328)\n",
      "Testing data shape after Reshape:(11664, 29160)\n"
     ]
    }
   ],
   "source": [
    "print(\"Training data shape after Reshape:{}\".format(train_data.shape))\n",
    "print(\"Training label data shape after Reshape:{}\".format(train_labels.shape))\n",
    "print(\"Testing data shape after Reshape:{}\".format(test_data.shape))"
   ]
  },
  {
   "cell_type": "markdown",
   "metadata": {},
   "source": [
    "### Normalizing train and test data"
   ]
  },
  {
   "cell_type": "code",
   "execution_count": 50,
   "metadata": {},
   "outputs": [],
   "source": [
    "train_data=train_data/255.0\n",
    "train_data.shape\n",
    "validation_data = validation_data/255.0"
   ]
  },
  {
   "cell_type": "markdown",
   "metadata": {},
   "source": [
    "## Defining Network Architecture"
   ]
  },
  {
   "cell_type": "markdown",
   "metadata": {},
   "source": [
    "### Weight Initialization"
   ]
  },
  {
   "cell_type": "code",
   "execution_count": 51,
   "metadata": {},
   "outputs": [],
   "source": [
    "def initialization(layer_dims):\n",
    "    #np.random.seed(3)\n",
    "    #no_of_layers = len(layer_dims)-1\n",
    "    #parameters ={}\n",
    "    #for l in range(1, no_of_layers + 1):\n",
    "    #    parameters[\"W\"+str(l)]=np.random.randn(layer_dims[l],layer_dims[l-1]) * 0.01 #*np.sqrt(2./layer_dims[l-1])\n",
    "    #    parameters[\"b\"+str(l)]=np.zeros(shape=(layer_dims[l],1))\n",
    "    #parameters=np.load('parameters.npy',allow_pickle=True)\n",
    "    #print('parameters==',len(parameters))\n",
    "    # Load data (deserialize)\n",
    "    with open('parameters_15-11-2019_04-43-14_PM.pickle', 'rb') as handle:\n",
    "        parameters = pickle.load(handle)\n",
    "    #print('parameters==',len(parameters))\n",
    "    return parameters"
   ]
  },
  {
   "cell_type": "markdown",
   "metadata": {},
   "source": [
    "### Define Mini Batches"
   ]
  },
  {
   "cell_type": "code",
   "execution_count": 52,
   "metadata": {},
   "outputs": [],
   "source": [
    "def random_mini_batches(X, Y, mini_batch_size = 64, seed = 0):\n",
    "    \"\"\"\n",
    "    Creates a list of random minibatches from (X, Y)\n",
    "    \n",
    "    Arguments:\n",
    "    X -- input data, of shape (input size, number of examples)\n",
    "    Y -- true \"label\" vector (1 for blue dot / 0 for red dot), of shape (1, number of examples)\n",
    "    mini_batch_size -- size of the mini-batches, integer\n",
    "    \n",
    "    Returns:\n",
    "    mini_batches -- list of synchronous (mini_batch_X, mini_batch_Y)\n",
    "    \"\"\"\n",
    "    \n",
    "    np.random.seed(seed)            # To make your \"random\" minibatches the same as ours\n",
    "    m = X.shape[1]                  # number of training examples\n",
    "    mini_batches = []\n",
    "        \n",
    "    # Step 1: Shuffle (X, Y)\n",
    "    permutation = list(np.random.permutation(m))\n",
    "    shuffled_X = X[:, permutation]\n",
    "    shuffled_Y = Y[:, permutation]\n",
    "\n",
    "    # Step 2: Partition (shuffled_X, shuffled_Y). Minus the end case.\n",
    "    num_complete_minibatches = math.floor(m/mini_batch_size) # number of mini batches of size mini_batch_size in your partitionning\n",
    "    for k in range(0, num_complete_minibatches):\n",
    "        ### START CODE HERE ### (approx. 2 lines)\n",
    "        mini_batch_X = shuffled_X[:, k*mini_batch_size:(k+1)*mini_batch_size]\n",
    "        mini_batch_Y = shuffled_Y[:, k*mini_batch_size:(k+1)*mini_batch_size]\n",
    "        ### END CODE HERE ###\n",
    "        mini_batch = (mini_batch_X, mini_batch_Y)\n",
    "        mini_batches.append(mini_batch)\n",
    "    \n",
    "    # Handling the end case (last mini-batch < mini_batch_size)\n",
    "    if m % mini_batch_size != 0:\n",
    "        ### START CODE HERE ### (approx. 2 lines)\n",
    "        mini_batch_X = shuffled_X[:, (k+1)*mini_batch_size:]\n",
    "        mini_batch_Y = shuffled_Y[:, (k+1)*mini_batch_size:]\n",
    "        ### END CODE HERE ###\n",
    "        mini_batch = (mini_batch_X, mini_batch_Y)\n",
    "        mini_batches.append(mini_batch)\n",
    "    \n",
    "    return mini_batches"
   ]
  },
  {
   "cell_type": "markdown",
   "metadata": {},
   "source": [
    "### Utility Functions"
   ]
  },
  {
   "cell_type": "code",
   "execution_count": 53,
   "metadata": {},
   "outputs": [],
   "source": [
    "def relu_forward(Z):\n",
    "    A=np.maximum(0,Z)\n",
    "    return A,Z"
   ]
  },
  {
   "cell_type": "code",
   "execution_count": 54,
   "metadata": {},
   "outputs": [],
   "source": [
    "def relu_backward(prev_der,saved_data):\n",
    "    this_layer_activation=saved_data  #saved_data=Z of this layer\n",
    "    d_this_layer=np.array(prev_der, copy=True)\n",
    "    #print(\"d of thsi layer===\",d_this_layer)\n",
    "    d_this_layer[this_layer_activation <=0 ]=0\n",
    "    #print(\"d of thsi layer===\",d_this_layer)\n",
    "    return d_this_layer"
   ]
  },
  {
   "cell_type": "code",
   "execution_count": 55,
   "metadata": {},
   "outputs": [],
   "source": [
    "def softmax_forward(Z):\n",
    "    exp=np.exp(Z)\n",
    "    sum_exp=np.sum(exp,axis=0,keepdims=True)\n",
    "    softmax=exp/sum_exp\n",
    "    #Z -= np.max(Z)\n",
    "    #softmax = (np.exp(Z).T / np.sum(np.exp(Z),axis=1)).T\n",
    "    return softmax,Z"
   ]
  },
  {
   "cell_type": "markdown",
   "metadata": {},
   "source": [
    "### Forward Propogation"
   ]
  },
  {
   "cell_type": "code",
   "execution_count": 56,
   "metadata": {},
   "outputs": [],
   "source": [
    "def linear_plus_activation(X,W,b,activation):\n",
    "    Z = np.dot(W,X)+b\n",
    "    \n",
    "    if activation==\"relu\":\n",
    "        A,activation_save_data=relu_forward(Z)\n",
    "    else:\n",
    "        A,activation_save_data=softmax_forward(Z)\n",
    "    linear_save_data=(X,W,b)\n",
    "    save_data=(linear_save_data,activation_save_data)\n",
    "    return A,save_data"
   ]
  },
  {
   "cell_type": "code",
   "execution_count": 57,
   "metadata": {},
   "outputs": [],
   "source": [
    "def forward_prop(X,parameters):    \n",
    "    A=X\n",
    "    cache_data=[]\n",
    "    #no of layers\n",
    "    L=len(parameters)//2  #W and b so //2\n",
    "    for l in range(1,L):\n",
    "        A_prev=A\n",
    "        A ,relu_save_data= linear_plus_activation(A_prev,parameters[\"W\"+str(l)],parameters[\"b\"+str(l)],\"relu\")\n",
    "        cache_data.append(relu_save_data)\n",
    "    A_final ,softmax_save_data= linear_plus_activation(A,parameters[\"W\"+str(L)],parameters[\"b\"+str(L)],\"softmax\")\n",
    "    cache_data.append(softmax_save_data)\n",
    "    #print(\"A final : \",A_final.shape)\n",
    "    return A_final,cache_data\n",
    "        "
   ]
  },
  {
   "cell_type": "markdown",
   "metadata": {},
   "source": [
    "### Backward propogation"
   ]
  },
  {
   "cell_type": "code",
   "execution_count": 58,
   "metadata": {},
   "outputs": [],
   "source": [
    "def backward_gradient_compute_linear(grad_from_top_layer,save_data,activation):\n",
    "    linear_saved_data,activation_saved_data=save_data\n",
    "    total_images=grad_from_top_layer.shape[1]\n",
    "    if activation==\"relu\":\n",
    "        grad_from_top=relu_backward(grad_from_top_layer,activation_saved_data)\n",
    "    prev_activation,W,b=linear_saved_data\n",
    "    #print(\"top grad==\",grad_from_top)\n",
    "    dW=np.dot(grad_from_top,prev_activation.T)/total_images\n",
    "    db=np.sum(grad_from_top,axis=1,keepdims=True)/total_images\n",
    "    d_pass_to_prev_layer=np.dot(W.T,grad_from_top)\n",
    "    #print(\"dw==\",dW)\n",
    "    return d_pass_to_prev_layer,dW,db\n",
    "    \n",
    "    "
   ]
  },
  {
   "cell_type": "code",
   "execution_count": 59,
   "metadata": {},
   "outputs": [],
   "source": [
    "def backward_gradient_compute_linear_with_regularization(grad_from_top_layer,save_data,activation,lambd):\n",
    "    linear_saved_data,activation_saved_data=save_data\n",
    "    total_images=grad_from_top_layer.shape[1]\n",
    "    if activation==\"relu\":\n",
    "        grad_from_top=relu_backward(grad_from_top_layer,activation_saved_data)\n",
    "    prev_activation,W,b=linear_saved_data\n",
    "    #print(\"top grad==\",grad_from_top)\n",
    "    dW=np.dot(grad_from_top,prev_activation.T)/total_images+lambd*W/total_images\n",
    "    db=np.sum(grad_from_top,axis=1,keepdims=True)/total_images\n",
    "    d_pass_to_prev_layer=np.dot(W.T,grad_from_top)\n",
    "    #print(\"dw==\",dW)\n",
    "    return d_pass_to_prev_layer,dW,db"
   ]
  },
  {
   "cell_type": "code",
   "execution_count": 60,
   "metadata": {},
   "outputs": [],
   "source": [
    "def backward_prop(output_from_softmax,Y,saved_data):\n",
    "    gradients={}\n",
    "    prev_derivate=output_from_softmax-Y\n",
    "    \n",
    "    number_of_layers=len(saved_data)\n",
    "    total_images=Y.shape[1]\n",
    "    final_layer_saved=saved_data[number_of_layers-1]\n",
    "    linear,activation=final_layer_saved\n",
    "    gradients['dW'+str(number_of_layers)]=np.dot(prev_derivate,linear[0].T)/total_images\n",
    "    gradients['db'+str(number_of_layers)]=np.sum(prev_derivate,axis=1,keepdims=True)/total_images\n",
    "    prev_derivate=np.dot(linear[1].T,prev_derivate)\n",
    "    for l in reversed(range(number_of_layers-1)):\n",
    "        current_layer_save_data=saved_data[l]\n",
    "        prev_derivate,dW,db=backward_gradient_compute_linear(prev_derivate,current_layer_save_data,\"relu\")\n",
    "        gradients['dW'+str(l+1)]=dW\n",
    "        gradients['db'+str(l+1)]=db\n",
    "        #print(\"gradient shapes of W{0}:{1} and b{2}:{3}\".format(l,dW.shape,l,db.shape))\n",
    "    #print(\"dW1===\",gradients[\"dW1\"])\n",
    "    return gradients\n",
    "        \n",
    "        \n",
    "    "
   ]
  },
  {
   "cell_type": "code",
   "execution_count": 61,
   "metadata": {},
   "outputs": [],
   "source": [
    "def backward_prop_with_regularization(output_from_softmax,Y,saved_data,lambd):\n",
    "    gradients={}\n",
    "    prev_derivate=output_from_softmax-Y\n",
    "    \n",
    "    number_of_layers=len(saved_data)\n",
    "    total_images=Y.shape[1]\n",
    "    final_layer_saved=saved_data[number_of_layers-1]\n",
    "    linear,activation=final_layer_saved\n",
    "    gradients['dW'+str(number_of_layers)]=np.dot(prev_derivate,linear[0].T)/total_images+lambd*linear[1]/total_images\n",
    "    gradients['db'+str(number_of_layers)]=np.sum(prev_derivate,axis=1,keepdims=True)/total_images\n",
    "    prev_derivate=np.dot(linear[1].T,prev_derivate)\n",
    "    for l in reversed(range(number_of_layers-1)):\n",
    "        current_layer_save_data=saved_data[l]\n",
    "        prev_derivate,dW,db=backward_gradient_compute_linear_with_regularization(prev_derivate,current_layer_save_data,\"relu\",lambd)\n",
    "        gradients['dW'+str(l+1)]=dW\n",
    "        gradients['db'+str(l+1)]=db\n",
    "        #print(\"gradient shapes of W{0}:{1} and b{2}:{3}\".format(l,dW.shape,l,db.shape))\n",
    "    #print(\"dW1===\",gradients[\"dW1\"])\n",
    "    return gradients"
   ]
  },
  {
   "cell_type": "markdown",
   "metadata": {},
   "source": [
    "### Compute Loss"
   ]
  },
  {
   "cell_type": "code",
   "execution_count": 62,
   "metadata": {},
   "outputs": [],
   "source": [
    "def cost(y_hat,y):\n",
    "    #print(\"shape of y_hat {} and y {}\".format(y_hat.shape,y.shape))\n",
    "    total_images=y.shape[1]\n",
    "    #cost=-np.sum(y*np.log(y_hat)+(1-y)*np.log(1-y_hat))/total_images\n",
    "    L_sum = np.sum(np.multiply(y, np.log(y_hat)))\n",
    "    L = -(1./total_images) * L_sum\n",
    "\n",
    "    L = np.squeeze(L) \n",
    "    return L"
   ]
  },
  {
   "cell_type": "code",
   "execution_count": 63,
   "metadata": {},
   "outputs": [],
   "source": [
    "# GRADED FUNCTION: compute_cost_with_regularization\n",
    "\n",
    "def compute_cost_with_regularization(y_hat, y, parameters, lambd):\n",
    "    total_images = y.shape[1]\n",
    "    number_of_layers = len(parameters)//2\n",
    "        \n",
    "    W1 = parameters[\"W1\"]\n",
    "    W2 = parameters[\"W2\"]\n",
    "    W3 = parameters[\"W3\"]\n",
    "    \n",
    "    cross_entropy_cost = cost(y_hat, y) # This gives you the cross-entropy part of the cost\n",
    "    \n",
    "    ### START CODE HERE ### (approx. 1 line)\n",
    "    L2_regularization_cost = lambd * (np.sum(np.square(W1))+np.sum(np.square(W2))+np.sum(np.square(W3)))/(2*total_images)\n",
    "    ### END CODER HERE ###\n",
    "    \n",
    "    total_cost = cross_entropy_cost + L2_regularization_cost\n",
    "    \n",
    "    return total_cost"
   ]
  },
  {
   "cell_type": "markdown",
   "metadata": {},
   "source": [
    "### Update parameters with gradient descent"
   ]
  },
  {
   "cell_type": "code",
   "execution_count": 64,
   "metadata": {},
   "outputs": [],
   "source": [
    "def update(parameters,gradients,learning_rate):\n",
    "    number_of_layers=len(parameters)//2  # sice W and B in 1 params so /2\n",
    "    #print(\"prev weight \",parameters[\"W1\"])\n",
    "    #print(\"prev grad \",gradients[\"dW1\"])\n",
    "    for l in range(number_of_layers):\n",
    "        parameters[\"W\"+str(l+1)]-=learning_rate*gradients[\"dW\"+str(l+1)]\n",
    "        parameters[\"b\"+str(l+1)]-=learning_rate*gradients[\"db\"+str(l+1)]\n",
    "    #print(\"new weight \",parameters[\"W1\"])\n",
    "    return parameters"
   ]
  },
  {
   "cell_type": "markdown",
   "metadata": {},
   "source": [
    "### Update parameters with gradient descent with momentum"
   ]
  },
  {
   "cell_type": "code",
   "execution_count": 73,
   "metadata": {},
   "outputs": [],
   "source": [
    "def update_with_adam(parameters,gradients,learning_rate,beta,beta2):\n",
    "    number_of_layers=len(parameters)//2  # sice W and B in 1 params so /2\n",
    "    #print(\"prev weight \",parameters[\"W1\"])\n",
    "    #print(\"prev grad \",gradients[\"dW1\"])\n",
    "    # Initialize velocity\n",
    "    v={}\n",
    "    s={}\n",
    "    epsilon=1e-8\n",
    "    for l in range(number_of_layers):\n",
    "        ### START CODE HERE ### (approx. 2 lines)\n",
    "        v[\"dW\" + str(l+1)] = np.zeros(parameters['W' + str(l+1)].shape)\n",
    "        v[\"db\" + str(l+1)] = np.zeros(parameters['b' + str(l+1)].shape)\n",
    "        s[\"dW\" + str(l+1)] = np.zeros(parameters['W' + str(l+1)].shape)\n",
    "        s[\"db\" + str(l+1)] = np.zeros(parameters['b' + str(l+1)].shape)\n",
    "\n",
    "    for l in range(number_of_layers):\n",
    "        # compute velocities\n",
    "        v[\"dW\" + str(l+1)] = beta*v[\"dW\" + str(l+1)] + (1-beta)*gradients['dW' + str(l+1)]\n",
    "        v[\"db\" + str(l+1)] = beta*v[\"db\" + str(l+1)] + (1-beta)*gradients['db' + str(l+1)]\n",
    "        \n",
    "        # Moving average of the squared gradients. \n",
    "        \n",
    "        s[\"dW\" + str(l+1)] = beta2*s[\"dW\" + str(l+1)] + (1-beta2)*(gradients[\"dW\" + str(l+1)]**2)\n",
    "        s[\"db\" + str(l+1)] = beta2*s[\"db\" + str(l+1)] + (1-beta2)*(gradients[\"db\" + str(l+1)]**2)\n",
    "        \n",
    "        # update parameters\n",
    "        parameters[\"W\" + str(l+1)] = parameters[\"W\" + str(l+1)] - learning_rate*v[\"dW\" + str(l+1)]\\\n",
    "                                                                    /(s[\"dW\" + str(l+1)]**0.5+epsilon)\n",
    "        parameters[\"b\" + str(l+1)] = parameters[\"b\" + str(l+1)] - learning_rate*v[\"db\" + str(l+1)]\\\n",
    "                                                                    /(s[\"db\" + str(l+1)]**0.5+epsilon)\n",
    "    #print(\"new weight \",parameters[\"W1\"])\n",
    "    return parameters"
   ]
  },
  {
   "cell_type": "code",
   "execution_count": 74,
   "metadata": {},
   "outputs": [],
   "source": [
    "def update_with_momentum(parameters,gradients,learning_rate,beta):\n",
    "    number_of_layers=len(parameters)//2  # sice W and B in 1 params so /2\n",
    "    #print(\"prev weight \",parameters[\"W1\"])\n",
    "    #print(\"prev grad \",gradients[\"dW1\"])\n",
    "    # Initialize velocity\n",
    "    v={}\n",
    "    s={}\n",
    "    epsilon=1e-8\n",
    "    for l in range(number_of_layers):\n",
    "        ### START CODE HERE ### (approx. 2 lines)\n",
    "        v[\"dW\" + str(l+1)] = np.zeros(parameters['W' + str(l+1)].shape)\n",
    "        v[\"db\" + str(l+1)] = np.zeros(parameters['b' + str(l+1)].shape)\n",
    "        \n",
    "    for l in range(number_of_layers):\n",
    "        # compute velocities\n",
    "        v[\"dW\" + str(l+1)] = beta*v[\"dW\" + str(l+1)] + (1-beta)*gradients['dW' + str(l+1)]\n",
    "        v[\"db\" + str(l+1)] = beta*v[\"db\" + str(l+1)] + (1-beta)*gradients['db' + str(l+1)]\n",
    "        \n",
    "        \n",
    "        \n",
    "        # update parameters\n",
    "        parameters[\"W\" + str(l+1)] = parameters[\"W\" + str(l+1)] - learning_rate*v[\"dW\" + str(l+1)]\n",
    "                                                                    \n",
    "        parameters[\"b\" + str(l+1)] = parameters[\"b\" + str(l+1)] - learning_rate*v[\"db\" + str(l+1)]\n",
    "                                                                    \n",
    "    #print(\"new weight \",parameters[\"W1\"])\n",
    "    return parameters"
   ]
  },
  {
   "cell_type": "markdown",
   "metadata": {},
   "source": [
    "### Define complete Pipeline"
   ]
  },
  {
   "cell_type": "code",
   "execution_count": 66,
   "metadata": {},
   "outputs": [],
   "source": [
    "### CONSTANTS ###\n",
    "#layers_dims = [11664,32,10, 6] #  3-layer model\n",
    "#layers_dims = [11664,10,6]\n",
    "layers_dims = [11664,150,60,32,10, 6]\n",
    "learning_rate = 1e-3\n",
    "num_iterations = 50\n",
    "L2_regularizer_lambd=0.01\n",
    "momentum_beta=0.9\n",
    "momentum_beta2=0.999\n",
    "mini_batch_size=32\n",
    "learning_rate_decay=0.001"
   ]
  },
  {
   "cell_type": "code",
   "execution_count": 75,
   "metadata": {},
   "outputs": [],
   "source": [
    "\n",
    "def model(X,Y,layer_dims,learning_rate , num_iterations,learning_rate_decay):\n",
    "    costs = [] \n",
    "    seed = 0\n",
    "    \n",
    "    parameters=initialization(layer_dims)\n",
    "    iterations_per_epoch = max(X.shape[1] / mini_batch_size, 1)\n",
    "    #print(\"para   \",parameters)\n",
    "    for i in range(0,num_iterations):\n",
    "        seed = seed + 1\n",
    "        train_accuracy=[]\n",
    "        valid_accuracy = []\n",
    "        minibatches = random_mini_batches(X, Y, mini_batch_size, seed)\n",
    "        for indx,minibatch in enumerate(minibatches):\n",
    "            \n",
    "            # Select a minibatch\n",
    "            (minibatch_X, minibatch_Y) = minibatch\n",
    "            #forward propogation\n",
    "            y_hat,cache_data = forward_prop(minibatch_X,parameters)\n",
    "            #iter_cost=cost(y_hat,minibatch_Y) #non-regularized cost\n",
    "            #print(\"y_hat :\",y_hat[:,0])\n",
    "            #print(\"y :\",minibatch_Y[:,0])\n",
    "            iter_cost = compute_cost_with_regularization(y_hat,minibatch_Y,parameters,L2_regularizer_lambd)\n",
    "            #gradients=backward_prop(y_hat,minibatch_Y,cache_data)\n",
    "            gradients = backward_prop_with_regularization(y_hat,minibatch_Y,cache_data,L2_regularizer_lambd)\n",
    "            parameters=update_with_momentum(parameters,gradients,learning_rate,momentum_beta)\n",
    "            if indx % 100 == 0:\n",
    "                train_acc = accuracy(y_hat,minibatch_Y)\n",
    "                valid_acc = predict(validation_data,validation_labels,parameters)\n",
    "                #print(\"train acc:\",train_acc)\n",
    "                train_accuracy.append(train_acc)\n",
    "                valid_accuracy.append(valid_acc)\n",
    "                #print(\"Cost after epoch {0} and batch : {1}: {2}\".format(i+1,indx+1, np.squeeze(iter_cost)))\n",
    "                costs.append(iter_cost)\n",
    "            \n",
    "            \n",
    "            \n",
    "        print(\"Train accuracy after epoch {} : {}\".format(i+1,np.mean(train_accuracy)))\n",
    "        print(\"Validation accuracy after epoch {} : {}\".format(i+1,np.mean(valid_accuracy)))\n",
    "        print(\"Mean Cost over all batches after epoch {0} : {1}\".format(i+1,np.mean(np.squeeze(costs))))\n",
    "    # Decay learning rate\n",
    "    \n",
    "        learning_rate = learning_rate * (1/1+learning_rate_decay*i)\n",
    "\n",
    "        print(\"\\nreduced learning rate to : {}\\n\".format(learning_rate))\n",
    "        print(\"\\n-------------------------------------\\n\")\n",
    "    time = datetime.now().strftime(\"%d-%m-%Y_%I-%M-%S_%p\")\n",
    "    with open('parameters_{0}.pickle'.format(time), 'wb') as handle:\n",
    "        pickle.dump(parameters, handle, protocol=pickle.HIGHEST_PROTOCOL)\n",
    "    return parameters,costs"
   ]
  },
  {
   "cell_type": "code",
   "execution_count": 68,
   "metadata": {},
   "outputs": [],
   "source": [
    "def model_old(X,Y,layer_dims,learning_rate , num_iterations):\n",
    "    costs = [] \n",
    "    seed = 0\n",
    "    parameters=initialization(layer_dims)\n",
    "    #print(\"para   \",parameters)\n",
    "    for i in range(0,num_iterations):\n",
    "        \n",
    "        y_hat,cache_data = forward_prop(X,parameters)\n",
    "        #iter_cost=cost(y_hat,minibatch_Y) #non-regularized cost\n",
    "        iter_cost = compute_cost_with_regularization(y_hat,Y,parameters,L2_regularizer_lambd)\n",
    "\n",
    "        if i % 1 == 0:\n",
    "            print(\"\\n Cost after iteration {}: {} \\n\".format(i+1, np.squeeze(iter_cost)))\n",
    "            costs.append(iter_cost)\n",
    "\n",
    "        #gradients=backward_prop(y_hat,minibatch_Y,cache_data)\n",
    "        gradients = backward_prop_with_regularization(y_hat,Y,cache_data,L2_regularizer_lambd)\n",
    "        parameters=update(parameters,gradients,learning_rate)\n",
    "\n",
    "        \n",
    "        if i%1000==0:\n",
    "            time = datetime.now().strftime(\"%d-%m-%Y_%I-%M-%S_%p\")\n",
    "            with open('parameters_{0}.pickle'.format(time), 'wb') as handle:\n",
    "                pickle.dump(parameters, handle, protocol=pickle.HIGHEST_PROTOCOL)\n",
    "    return parameters,costs"
   ]
  },
  {
   "cell_type": "markdown",
   "metadata": {},
   "source": [
    "### Plot cost for Visualization"
   ]
  },
  {
   "cell_type": "code",
   "execution_count": 69,
   "metadata": {},
   "outputs": [],
   "source": [
    "def plot_cost(costs):\n",
    "    # plot the cost\n",
    "    fig = plt.figure()\n",
    "    plt.plot(np.squeeze(costs))\n",
    "    plt.ylabel('cost')\n",
    "    plt.xlabel('iterations (per hundred)')\n",
    "    plt.title(\"Learning rate =\" + str(learning_rate))\n",
    "    #plt.show()\n",
    "    plt.savefig('cost_2.png')"
   ]
  },
  {
   "cell_type": "markdown",
   "metadata": {},
   "source": [
    "### Model Prediction"
   ]
  },
  {
   "cell_type": "code",
   "execution_count": 70,
   "metadata": {},
   "outputs": [],
   "source": [
    "def predict(X, y, parameters):\n",
    "    \n",
    "    total_images = y.shape[1]\n",
    "    p = np.zeros((1,total_images), dtype = np.int)\n",
    "    \n",
    "    # Forward propagation\n",
    "    y_hat,cache_data = forward_prop(X,parameters)\n",
    "    \n",
    "    prediction=np.argmax(y_hat,axis=0)\n",
    "    prediction=np.squeeze(prediction.reshape(y_hat.shape[1],1))\n",
    "    actual_label=np.squeeze(y)\n",
    "    accuracy = sum(prediction == actual_label)/(float(len(actual_label)))\n",
    "    \n",
    "    return accuracy"
   ]
  },
  {
   "cell_type": "markdown",
   "metadata": {},
   "source": [
    "#### Find accuracy"
   ]
  },
  {
   "cell_type": "code",
   "execution_count": 71,
   "metadata": {},
   "outputs": [],
   "source": [
    "def accuracy(y_hat, y):\n",
    "    \n",
    "    total_images = y.shape[1]\n",
    "    p = np.zeros((1,total_images), dtype = np.int)\n",
    "    \n",
    "    \n",
    "    prediction=np.argmax(y_hat,axis=0)\n",
    "    prediction=np.squeeze(prediction.reshape(y_hat.shape[1],1))\n",
    "    reference=np.argmax(y,axis=0)\n",
    "    reference=np.squeeze(reference.reshape(y.shape[1],1))\n",
    "    \n",
    "    \n",
    "    accuracy = sum(prediction == reference)/(float(len(reference)))\n",
    "    return accuracy"
   ]
  },
  {
   "cell_type": "markdown",
   "metadata": {},
   "source": [
    "### Train Model"
   ]
  },
  {
   "cell_type": "code",
   "execution_count": null,
   "metadata": {},
   "outputs": [
    {
     "name": "stdout",
     "output_type": "stream",
     "text": [
      "Train accuracy after epoch 1 : 0.71875\n",
      "Validation accuracy after epoch 1 : 0.5344435871056241\n",
      "Mean Cost over all batches after epoch 1 : 0.7980884341697353\n",
      "\n",
      "reduced learning rate to : 0.001\n",
      "\n",
      "\n",
      "-------------------------------------\n",
      "\n",
      "Train accuracy after epoch 2 : 0.73828125\n",
      "Validation accuracy after epoch 2 : 0.539673353909465\n",
      "Mean Cost over all batches after epoch 2 : 0.7937645004251757\n",
      "\n",
      "reduced learning rate to : 0.001001\n",
      "\n",
      "\n",
      "-------------------------------------\n",
      "\n",
      "Train accuracy after epoch 3 : 0.734375\n",
      "Validation accuracy after epoch 3 : 0.5399734224965707\n",
      "Mean Cost over all batches after epoch 3 : 0.8004197210892056\n",
      "\n",
      "reduced learning rate to : 0.001003002\n",
      "\n",
      "\n",
      "-------------------------------------\n",
      "\n",
      "Train accuracy after epoch 4 : 0.65234375\n",
      "Validation accuracy after epoch 4 : 0.5401663237311385\n",
      "Mean Cost over all batches after epoch 4 : 0.8315391440892647\n",
      "\n",
      "reduced learning rate to : 0.001006011006\n",
      "\n",
      "\n",
      "-------------------------------------\n",
      "\n",
      "Train accuracy after epoch 5 : 0.68359375\n",
      "Validation accuracy after epoch 5 : 0.53963048696845\n",
      "Mean Cost over all batches after epoch 5 : 0.8412336877577946\n",
      "\n",
      "reduced learning rate to : 0.001010035050024\n",
      "\n",
      "\n",
      "-------------------------------------\n",
      "\n",
      "Train accuracy after epoch 6 : 0.7734375\n",
      "Validation accuracy after epoch 6 : 0.5393732853223594\n",
      "Mean Cost over all batches after epoch 6 : 0.8264641230179745\n",
      "\n",
      "reduced learning rate to : 0.0010150852252741199\n",
      "\n",
      "\n",
      "-------------------------------------\n",
      "\n",
      "Train accuracy after epoch 7 : 0.7265625\n",
      "Validation accuracy after epoch 7 : 0.5411093964334706\n",
      "Mean Cost over all batches after epoch 7 : 0.8233081561674374\n",
      "\n",
      "reduced learning rate to : 0.0010211757366257645\n",
      "\n",
      "\n",
      "-------------------------------------\n",
      "\n",
      "Train accuracy after epoch 8 : 0.76171875\n",
      "Validation accuracy after epoch 8 : 0.541045096021948\n",
      "Mean Cost over all batches after epoch 8 : 0.8156121662608635\n",
      "\n",
      "reduced learning rate to : 0.0010283239667821448\n",
      "\n",
      "\n",
      "-------------------------------------\n",
      "\n",
      "Train accuracy after epoch 9 : 0.73828125\n",
      "Validation accuracy after epoch 9 : 0.540616426611797\n",
      "Mean Cost over all batches after epoch 9 : 0.8068509660566304\n",
      "\n",
      "reduced learning rate to : 0.001036550558516402\n",
      "\n",
      "\n",
      "-------------------------------------\n",
      "\n",
      "Train accuracy after epoch 10 : 0.71875\n",
      "Validation accuracy after epoch 10 : 0.5409164951989025\n",
      "Mean Cost over all batches after epoch 10 : 0.8081460185319136\n",
      "\n",
      "reduced learning rate to : 0.0010458795135430494\n",
      "\n",
      "\n",
      "-------------------------------------\n",
      "\n",
      "Train accuracy after epoch 11 : 0.765625\n",
      "Validation accuracy after epoch 11 : 0.541366598079561\n",
      "Mean Cost over all batches after epoch 11 : 0.8017712775551021\n",
      "\n",
      "reduced learning rate to : 0.00105633830867848\n",
      "\n",
      "\n",
      "-------------------------------------\n",
      "\n",
      "Train accuracy after epoch 12 : 0.71875\n",
      "Validation accuracy after epoch 12 : 0.5411951303155007\n",
      "Mean Cost over all batches after epoch 12 : 0.8072914473406287\n",
      "\n",
      "reduced learning rate to : 0.001067958030073943\n",
      "\n",
      "\n",
      "-------------------------------------\n",
      "\n",
      "Train accuracy after epoch 13 : 0.69921875\n",
      "Validation accuracy after epoch 13 : 0.5413022976680384\n",
      "Mean Cost over all batches after epoch 13 : 0.8099517765130249\n",
      "\n",
      "reduced learning rate to : 0.0010807735264348303\n",
      "\n",
      "\n",
      "-------------------------------------\n",
      "\n",
      "Train accuracy after epoch 14 : 0.73828125\n",
      "Validation accuracy after epoch 14 : 0.5418810013717421\n",
      "Mean Cost over all batches after epoch 14 : 0.8084025648385669\n",
      "\n",
      "reduced learning rate to : 0.001094823582278483\n",
      "\n",
      "\n",
      "-------------------------------------\n",
      "\n",
      "Train accuracy after epoch 15 : 0.72265625\n",
      "Validation accuracy after epoch 15 : 0.5419881687242798\n",
      "Mean Cost over all batches after epoch 15 : 0.8067640946362696\n",
      "\n",
      "reduced learning rate to : 0.0011101511124303818\n",
      "\n",
      "\n",
      "-------------------------------------\n",
      "\n",
      "Train accuracy after epoch 16 : 0.74609375\n",
      "Validation accuracy after epoch 16 : 0.5409164951989025\n",
      "Mean Cost over all batches after epoch 16 : 0.804667042102732\n",
      "\n",
      "reduced learning rate to : 0.0011268033791168375\n",
      "\n",
      "\n",
      "-------------------------------------\n",
      "\n",
      "Train accuracy after epoch 17 : 0.74609375\n",
      "Validation accuracy after epoch 17 : 0.5407235939643347\n",
      "Mean Cost over all batches after epoch 17 : 0.8052977066420848\n",
      "\n",
      "reduced learning rate to : 0.001144832233182707\n",
      "\n",
      "\n",
      "-------------------------------------\n",
      "\n",
      "Train accuracy after epoch 18 : 0.71484375\n",
      "Validation accuracy after epoch 18 : 0.5413022976680384\n",
      "Mean Cost over all batches after epoch 18 : 0.8036367837498842\n",
      "\n",
      "reduced learning rate to : 0.0011642943811468129\n",
      "\n",
      "\n",
      "-------------------------------------\n",
      "\n",
      "Train accuracy after epoch 19 : 0.73046875\n",
      "Validation accuracy after epoch 19 : 0.5412594307270233\n",
      "Mean Cost over all batches after epoch 19 : 0.8027540744932599\n",
      "\n",
      "reduced learning rate to : 0.0011852516800074555\n",
      "\n",
      "\n",
      "-------------------------------------\n",
      "\n",
      "Train accuracy after epoch 20 : 0.69921875\n",
      "Validation accuracy after epoch 20 : 0.5412808641975309\n",
      "Mean Cost over all batches after epoch 20 : 0.8045345839654672\n",
      "\n",
      "reduced learning rate to : 0.0012077714619275971\n",
      "\n",
      "\n",
      "-------------------------------------\n",
      "\n",
      "Train accuracy after epoch 21 : 0.76953125\n",
      "Validation accuracy after epoch 21 : 0.5412594307270233\n",
      "Mean Cost over all batches after epoch 21 : 0.7991172433874845\n",
      "\n",
      "reduced learning rate to : 0.001231926891166149\n",
      "\n",
      "\n",
      "-------------------------------------\n",
      "\n",
      "Train accuracy after epoch 22 : 0.75390625\n",
      "Validation accuracy after epoch 22 : 0.5417738340192044\n",
      "Mean Cost over all batches after epoch 22 : 0.7975209651330221\n",
      "\n",
      "reduced learning rate to : 0.001257797355880638\n",
      "\n",
      "\n",
      "-------------------------------------\n",
      "\n",
      "Train accuracy after epoch 23 : 0.68359375\n",
      "Validation accuracy after epoch 23 : 0.5407664609053499\n",
      "Mean Cost over all batches after epoch 23 : 0.7996819193680894\n",
      "\n",
      "reduced learning rate to : 0.0012854688977100121\n",
      "\n",
      "\n",
      "-------------------------------------\n",
      "\n",
      "Train accuracy after epoch 24 : 0.71484375\n",
      "Validation accuracy after epoch 24 : 0.5409593621399177\n",
      "Mean Cost over all batches after epoch 24 : 0.8006723692045498\n",
      "\n",
      "reduced learning rate to : 0.0013150346823573424\n",
      "\n",
      "\n",
      "-------------------------------------\n",
      "\n",
      "Train accuracy after epoch 25 : 0.703125\n",
      "Validation accuracy after epoch 25 : 0.5411736968449932\n",
      "Mean Cost over all batches after epoch 25 : 0.8015858633290119\n",
      "\n",
      "reduced learning rate to : 0.0013465955147339186\n",
      "\n",
      "\n",
      "-------------------------------------\n",
      "\n",
      "Train accuracy after epoch 26 : 0.7109375\n",
      "Validation accuracy after epoch 26 : 0.5420310356652949\n",
      "Mean Cost over all batches after epoch 26 : 0.8026918599520487\n",
      "\n",
      "reduced learning rate to : 0.0013802604026022665\n",
      "\n",
      "\n",
      "-------------------------------------\n",
      "\n",
      "Train accuracy after epoch 27 : 0.765625\n",
      "Validation accuracy after epoch 27 : 0.5404878257887518\n",
      "Mean Cost over all batches after epoch 27 : 0.7987334383493008\n",
      "\n",
      "reduced learning rate to : 0.0014161471730699256\n",
      "\n",
      "\n",
      "-------------------------------------\n",
      "\n",
      "Train accuracy after epoch 28 : 0.69921875\n",
      "Validation accuracy after epoch 28 : 0.5416881001371743\n",
      "Mean Cost over all batches after epoch 28 : 0.8000112068869988\n",
      "\n",
      "reduced learning rate to : 0.0014543831467428135\n",
      "\n",
      "\n",
      "-------------------------------------\n",
      "\n",
      "Train accuracy after epoch 29 : 0.70703125\n",
      "Validation accuracy after epoch 29 : 0.5407878943758573\n",
      "Mean Cost over all batches after epoch 29 : 0.7993564108672075\n",
      "\n",
      "reduced learning rate to : 0.0014951058748516122\n",
      "\n",
      "\n",
      "-------------------------------------\n",
      "\n",
      "Train accuracy after epoch 30 : 0.71875\n",
      "Validation accuracy after epoch 30 : 0.5416452331961592\n",
      "Mean Cost over all batches after epoch 30 : 0.7987893934289685\n",
      "\n",
      "reduced learning rate to : 0.0015384639452223087\n",
      "\n",
      "\n",
      "-------------------------------------\n",
      "\n",
      "Train accuracy after epoch 31 : 0.77734375\n",
      "Validation accuracy after epoch 31 : 0.5408736282578875\n",
      "Mean Cost over all batches after epoch 31 : 0.7968734276058776\n",
      "\n",
      "reduced learning rate to : 0.001584617863578978\n",
      "\n",
      "\n",
      "-------------------------------------\n",
      "\n",
      "Train accuracy after epoch 32 : 0.7578125\n",
      "Validation accuracy after epoch 32 : 0.5410879629629629\n",
      "Mean Cost over all batches after epoch 32 : 0.795912629144421\n",
      "\n",
      "reduced learning rate to : 0.0016337410173499262\n",
      "\n",
      "\n",
      "-------------------------------------\n",
      "\n",
      "Train accuracy after epoch 33 : 0.73828125\n",
      "Validation accuracy after epoch 33 : 0.5411308299039781\n",
      "Mean Cost over all batches after epoch 33 : 0.7942192879999812\n",
      "\n",
      "reduced learning rate to : 0.0016860207299051239\n",
      "\n",
      "\n",
      "-------------------------------------\n",
      "\n"
     ]
    },
    {
     "name": "stdout",
     "output_type": "stream",
     "text": [
      "Train accuracy after epoch 34 : 0.71875\n",
      "Validation accuracy after epoch 34 : 0.5411093964334706\n",
      "Mean Cost over all batches after epoch 34 : 0.7925783127623207\n",
      "\n",
      "reduced learning rate to : 0.0017416594139919928\n",
      "\n",
      "\n",
      "-------------------------------------\n",
      "\n",
      "Train accuracy after epoch 35 : 0.703125\n",
      "Validation accuracy after epoch 35 : 0.541838134430727\n",
      "Mean Cost over all batches after epoch 35 : 0.7933369682278891\n",
      "\n",
      "reduced learning rate to : 0.0018008758340677207\n",
      "\n",
      "\n",
      "-------------------------------------\n",
      "\n",
      "Train accuracy after epoch 36 : 0.74609375\n",
      "Validation accuracy after epoch 36 : 0.5413880315500685\n",
      "Mean Cost over all batches after epoch 36 : 0.7912896350115332\n",
      "\n",
      "reduced learning rate to : 0.0018639064882600908\n",
      "\n",
      "\n",
      "-------------------------------------\n",
      "\n"
     ]
    }
   ],
   "source": [
    "paramerters,costs = model(train_data,train_labels,layers_dims,learning_rate,num_iterations,learning_rate_decay)\n",
    "#plot cost\n",
    "plot_cost(costs)"
   ]
  },
  {
   "cell_type": "markdown",
   "metadata": {},
   "source": [
    "### Model Accuracy"
   ]
  },
  {
   "cell_type": "code",
   "execution_count": 36,
   "metadata": {},
   "outputs": [
    {
     "name": "stdout",
     "output_type": "stream",
     "text": [
      " Training Accuracy: 0.6636231138545954\n"
     ]
    }
   ],
   "source": [
    "# Train accuracy\n",
    "predict(train_data,train_labels_acc,paramerters,\"Training\")"
   ]
  },
  {
   "cell_type": "code",
   "execution_count": 37,
   "metadata": {},
   "outputs": [
    {
     "name": "stdout",
     "output_type": "stream",
     "text": [
      " Validation Accuracy: 0.5044581618655692\n"
     ]
    }
   ],
   "source": [
    "# Validation accuracy\n",
    "predict(validation_data,validation_labels,paramerters,\"Validation\")"
   ]
  },
  {
   "cell_type": "markdown",
   "metadata": {},
   "source": [
    "### Create CSV for kaggle upload"
   ]
  },
  {
   "cell_type": "code",
   "execution_count": 113,
   "metadata": {},
   "outputs": [],
   "source": [
    "def convert_submission_csv(X,parameters):\n",
    "    # Forward propagation\n",
    "    y_hat,cache_data = forward_prop(X,parameters)\n",
    "    \n",
    "    prediction=np.argmax(y_hat,axis=0)\n",
    "    prediction=np.squeeze(prediction.reshape(y_hat.shape[1],1))\n",
    "    df = pd.DataFrame(data=prediction,columns=[\"label\"])\n",
    "    df = df.rename_axis('id').reset_index()\n",
    "    return df\n",
    "    "
   ]
  },
  {
   "cell_type": "code",
   "execution_count": 114,
   "metadata": {},
   "outputs": [],
   "source": [
    "df = convert_submission_csv(test_data,paramerters)\n",
    "df.to_csv('submission.csv',index=False)"
   ]
  },
  {
   "cell_type": "code",
   "execution_count": null,
   "metadata": {},
   "outputs": [],
   "source": []
  }
 ],
 "metadata": {
  "kernelspec": {
   "display_name": "Python 3",
   "language": "python",
   "name": "python3"
  },
  "language_info": {
   "codemirror_mode": {
    "name": "ipython",
    "version": 3
   },
   "file_extension": ".py",
   "mimetype": "text/x-python",
   "name": "python",
   "nbconvert_exporter": "python",
   "pygments_lexer": "ipython3",
   "version": "3.6.8"
  }
 },
 "nbformat": 4,
 "nbformat_minor": 2
}
